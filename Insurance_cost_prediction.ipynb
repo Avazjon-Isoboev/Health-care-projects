{
  "cells": [
    {
      "cell_type": "markdown",
      "id": "dc7a331b",
      "metadata": {
        "papermill": {
          "duration": 0.01525,
          "end_time": "2022-08-29T12:07:37.536822",
          "exception": false,
          "start_time": "2022-08-29T12:07:37.521572",
          "status": "completed"
        },
        "tags": [],
        "id": "dc7a331b"
      },
      "source": [
        "# Project: Medical Insurance Cost Prediction"
      ]
    },
    {
      "cell_type": "markdown",
      "id": "8ebabd4d",
      "metadata": {
        "papermill": {
          "duration": 0.012804,
          "end_time": "2022-08-29T12:07:37.564139",
          "exception": false,
          "start_time": "2022-08-29T12:07:37.551335",
          "status": "completed"
        },
        "tags": [],
        "id": "8ebabd4d"
      },
      "source": [
        "## Table of Contents\n",
        "\n",
        "1. [Importing Packages](#section-one)   \n",
        "\n",
        "2. [Loading the Raw Data](#section-two)\n",
        "\n",
        "3. [Data Exploration](#section-three)\n",
        "\n",
        "4. [Data Pre-Processing](#section-four)\n",
        "\n",
        "    * [Encoding the Categorical Features](#section-four-two)\n",
        "    * [Splitting the Features and Target](#section-four-three)\n",
        "    * [Splitting the data into Training and Testing data](#section-four-four)\n",
        "\n",
        "\n",
        "5. [Model Training](#section-five)\n",
        "\n",
        "    * [Linear Regression](#section-five-one)\n",
        "    * [Model Evaluation](#section-five-two)\n",
        "\n",
        "\n",
        "6. [Building a Predictive System.](#section-six)"
      ]
    },
    {
      "cell_type": "markdown",
      "id": "b18b3999",
      "metadata": {
        "_cell_guid": "b1076dfc-b9ad-4769-8c92-a6c4dae69d19",
        "_uuid": "8f2839f25d086af736a60e9eeb907d3b93b6e0e5",
        "papermill": {
          "duration": 0.014241,
          "end_time": "2022-08-29T12:07:37.591436",
          "exception": false,
          "start_time": "2022-08-29T12:07:37.577195",
          "status": "completed"
        },
        "tags": [],
        "id": "b18b3999"
      },
      "source": [
        "<a id=\"section-one\"></a>\n",
        "# 1. Importing Packages"
      ]
    },
    {
      "cell_type": "code",
      "execution_count": 1,
      "id": "a825b6c7",
      "metadata": {
        "execution": {
          "iopub.execute_input": "2022-08-29T12:07:37.620140Z",
          "iopub.status.busy": "2022-08-29T12:07:37.619388Z",
          "iopub.status.idle": "2022-08-29T12:07:39.129417Z",
          "shell.execute_reply": "2022-08-29T12:07:39.128368Z"
        },
        "papermill": {
          "duration": 1.528484,
          "end_time": "2022-08-29T12:07:39.132767",
          "exception": false,
          "start_time": "2022-08-29T12:07:37.604283",
          "status": "completed"
        },
        "tags": [],
        "id": "a825b6c7"
      },
      "outputs": [],
      "source": [
        "# relevant libraries for this project\n",
        "\n",
        "import numpy as np\n",
        "import pandas as pd\n",
        "import matplotlib.pyplot as plt\n",
        "from sklearn.linear_model import LinearRegression\n",
        "import seaborn as sns\n",
        "sns.set()\n",
        "from sklearn.preprocessing import OneHotEncoder"
      ]
    },
    {
      "cell_type": "markdown",
      "id": "aaee52f2",
      "metadata": {
        "papermill": {
          "duration": 0.01253,
          "end_time": "2022-08-29T12:07:39.158528",
          "exception": false,
          "start_time": "2022-08-29T12:07:39.145998",
          "status": "completed"
        },
        "tags": [],
        "id": "aaee52f2"
      },
      "source": [
        "<a id=\"section-two\"></a>\n",
        "# 2. Loading the raw data"
      ]
    },
    {
      "cell_type": "markdown",
      "id": "e693179e",
      "metadata": {
        "papermill": {
          "duration": 0.01233,
          "end_time": "2022-08-29T12:07:39.183694",
          "exception": false,
          "start_time": "2022-08-29T12:07:39.171364",
          "status": "completed"
        },
        "tags": [],
        "id": "e693179e"
      },
      "source": [
        "We have taken the data of medical health insurance from Kaggle. The file is named 'insurance.csv' and we will be using module 'pandas' to load it."
      ]
    },
    {
      "cell_type": "code",
      "execution_count": 2,
      "id": "3e74c9cd",
      "metadata": {
        "execution": {
          "iopub.execute_input": "2022-08-29T12:07:39.211665Z",
          "iopub.status.busy": "2022-08-29T12:07:39.211171Z",
          "iopub.status.idle": "2022-08-29T12:07:39.252732Z",
          "shell.execute_reply": "2022-08-29T12:07:39.251763Z"
        },
        "papermill": {
          "duration": 0.059037,
          "end_time": "2022-08-29T12:07:39.255518",
          "exception": false,
          "start_time": "2022-08-29T12:07:39.196481",
          "status": "completed"
        },
        "tags": [],
        "colab": {
          "base_uri": "https://localhost:8080/",
          "height": 206
        },
        "id": "3e74c9cd",
        "outputId": "dbbd6bc9-2061-4cdd-b18f-10afd99b346d"
      },
      "outputs": [
        {
          "output_type": "execute_result",
          "data": {
            "text/plain": [
              "   age     sex     bmi  children smoker     region      charges\n",
              "0   19  female  27.900         0    yes  southwest  16884.92400\n",
              "1   18    male  33.770         1     no  southeast   1725.55230\n",
              "2   28    male  33.000         3     no  southeast   4449.46200\n",
              "3   33    male  22.705         0     no  northwest  21984.47061\n",
              "4   32    male  28.880         0     no  northwest   3866.85520"
            ],
            "text/html": [
              "\n",
              "  <div id=\"df-81b3471d-1793-463a-b287-8384ac42acfa\">\n",
              "    <div class=\"colab-df-container\">\n",
              "      <div>\n",
              "<style scoped>\n",
              "    .dataframe tbody tr th:only-of-type {\n",
              "        vertical-align: middle;\n",
              "    }\n",
              "\n",
              "    .dataframe tbody tr th {\n",
              "        vertical-align: top;\n",
              "    }\n",
              "\n",
              "    .dataframe thead th {\n",
              "        text-align: right;\n",
              "    }\n",
              "</style>\n",
              "<table border=\"1\" class=\"dataframe\">\n",
              "  <thead>\n",
              "    <tr style=\"text-align: right;\">\n",
              "      <th></th>\n",
              "      <th>age</th>\n",
              "      <th>sex</th>\n",
              "      <th>bmi</th>\n",
              "      <th>children</th>\n",
              "      <th>smoker</th>\n",
              "      <th>region</th>\n",
              "      <th>charges</th>\n",
              "    </tr>\n",
              "  </thead>\n",
              "  <tbody>\n",
              "    <tr>\n",
              "      <th>0</th>\n",
              "      <td>19</td>\n",
              "      <td>female</td>\n",
              "      <td>27.900</td>\n",
              "      <td>0</td>\n",
              "      <td>yes</td>\n",
              "      <td>southwest</td>\n",
              "      <td>16884.92400</td>\n",
              "    </tr>\n",
              "    <tr>\n",
              "      <th>1</th>\n",
              "      <td>18</td>\n",
              "      <td>male</td>\n",
              "      <td>33.770</td>\n",
              "      <td>1</td>\n",
              "      <td>no</td>\n",
              "      <td>southeast</td>\n",
              "      <td>1725.55230</td>\n",
              "    </tr>\n",
              "    <tr>\n",
              "      <th>2</th>\n",
              "      <td>28</td>\n",
              "      <td>male</td>\n",
              "      <td>33.000</td>\n",
              "      <td>3</td>\n",
              "      <td>no</td>\n",
              "      <td>southeast</td>\n",
              "      <td>4449.46200</td>\n",
              "    </tr>\n",
              "    <tr>\n",
              "      <th>3</th>\n",
              "      <td>33</td>\n",
              "      <td>male</td>\n",
              "      <td>22.705</td>\n",
              "      <td>0</td>\n",
              "      <td>no</td>\n",
              "      <td>northwest</td>\n",
              "      <td>21984.47061</td>\n",
              "    </tr>\n",
              "    <tr>\n",
              "      <th>4</th>\n",
              "      <td>32</td>\n",
              "      <td>male</td>\n",
              "      <td>28.880</td>\n",
              "      <td>0</td>\n",
              "      <td>no</td>\n",
              "      <td>northwest</td>\n",
              "      <td>3866.85520</td>\n",
              "    </tr>\n",
              "  </tbody>\n",
              "</table>\n",
              "</div>\n",
              "      <button class=\"colab-df-convert\" onclick=\"convertToInteractive('df-81b3471d-1793-463a-b287-8384ac42acfa')\"\n",
              "              title=\"Convert this dataframe to an interactive table.\"\n",
              "              style=\"display:none;\">\n",
              "        \n",
              "  <svg xmlns=\"http://www.w3.org/2000/svg\" height=\"24px\"viewBox=\"0 0 24 24\"\n",
              "       width=\"24px\">\n",
              "    <path d=\"M0 0h24v24H0V0z\" fill=\"none\"/>\n",
              "    <path d=\"M18.56 5.44l.94 2.06.94-2.06 2.06-.94-2.06-.94-.94-2.06-.94 2.06-2.06.94zm-11 1L8.5 8.5l.94-2.06 2.06-.94-2.06-.94L8.5 2.5l-.94 2.06-2.06.94zm10 10l.94 2.06.94-2.06 2.06-.94-2.06-.94-.94-2.06-.94 2.06-2.06.94z\"/><path d=\"M17.41 7.96l-1.37-1.37c-.4-.4-.92-.59-1.43-.59-.52 0-1.04.2-1.43.59L10.3 9.45l-7.72 7.72c-.78.78-.78 2.05 0 2.83L4 21.41c.39.39.9.59 1.41.59.51 0 1.02-.2 1.41-.59l7.78-7.78 2.81-2.81c.8-.78.8-2.07 0-2.86zM5.41 20L4 18.59l7.72-7.72 1.47 1.35L5.41 20z\"/>\n",
              "  </svg>\n",
              "      </button>\n",
              "      \n",
              "  <style>\n",
              "    .colab-df-container {\n",
              "      display:flex;\n",
              "      flex-wrap:wrap;\n",
              "      gap: 12px;\n",
              "    }\n",
              "\n",
              "    .colab-df-convert {\n",
              "      background-color: #E8F0FE;\n",
              "      border: none;\n",
              "      border-radius: 50%;\n",
              "      cursor: pointer;\n",
              "      display: none;\n",
              "      fill: #1967D2;\n",
              "      height: 32px;\n",
              "      padding: 0 0 0 0;\n",
              "      width: 32px;\n",
              "    }\n",
              "\n",
              "    .colab-df-convert:hover {\n",
              "      background-color: #E2EBFA;\n",
              "      box-shadow: 0px 1px 2px rgba(60, 64, 67, 0.3), 0px 1px 3px 1px rgba(60, 64, 67, 0.15);\n",
              "      fill: #174EA6;\n",
              "    }\n",
              "\n",
              "    [theme=dark] .colab-df-convert {\n",
              "      background-color: #3B4455;\n",
              "      fill: #D2E3FC;\n",
              "    }\n",
              "\n",
              "    [theme=dark] .colab-df-convert:hover {\n",
              "      background-color: #434B5C;\n",
              "      box-shadow: 0px 1px 3px 1px rgba(0, 0, 0, 0.15);\n",
              "      filter: drop-shadow(0px 1px 2px rgba(0, 0, 0, 0.3));\n",
              "      fill: #FFFFFF;\n",
              "    }\n",
              "  </style>\n",
              "\n",
              "      <script>\n",
              "        const buttonEl =\n",
              "          document.querySelector('#df-81b3471d-1793-463a-b287-8384ac42acfa button.colab-df-convert');\n",
              "        buttonEl.style.display =\n",
              "          google.colab.kernel.accessAllowed ? 'block' : 'none';\n",
              "\n",
              "        async function convertToInteractive(key) {\n",
              "          const element = document.querySelector('#df-81b3471d-1793-463a-b287-8384ac42acfa');\n",
              "          const dataTable =\n",
              "            await google.colab.kernel.invokeFunction('convertToInteractive',\n",
              "                                                     [key], {});\n",
              "          if (!dataTable) return;\n",
              "\n",
              "          const docLinkHtml = 'Like what you see? Visit the ' +\n",
              "            '<a target=\"_blank\" href=https://colab.research.google.com/notebooks/data_table.ipynb>data table notebook</a>'\n",
              "            + ' to learn more about interactive tables.';\n",
              "          element.innerHTML = '';\n",
              "          dataTable['output_type'] = 'display_data';\n",
              "          await google.colab.output.renderOutput(dataTable, element);\n",
              "          const docLink = document.createElement('div');\n",
              "          docLink.innerHTML = docLinkHtml;\n",
              "          element.appendChild(docLink);\n",
              "        }\n",
              "      </script>\n",
              "    </div>\n",
              "  </div>\n",
              "  "
            ]
          },
          "metadata": {},
          "execution_count": 2
        }
      ],
      "source": [
        "# Panda dataframe\n",
        "\n",
        "raw_data = pd.read_csv('/content/insurance.csv')\n",
        "\n",
        "# Let's have a quick look at the dataset\n",
        "\n",
        "raw_data.head()"
      ]
    },
    {
      "cell_type": "markdown",
      "id": "3f77d3f7",
      "metadata": {
        "papermill": {
          "duration": 0.012812,
          "end_time": "2022-08-29T12:07:39.281592",
          "exception": false,
          "start_time": "2022-08-29T12:07:39.268780",
          "status": "completed"
        },
        "tags": [],
        "id": "3f77d3f7"
      },
      "source": [
        "Here, we have the first 5 rows of the given dataset to have a look at it and understand it. We are going to predict the 'charges' so it will become the target and rest columns are the features!"
      ]
    },
    {
      "cell_type": "code",
      "execution_count": 3,
      "id": "f3bea643",
      "metadata": {
        "execution": {
          "iopub.execute_input": "2022-08-29T12:07:39.311199Z",
          "iopub.status.busy": "2022-08-29T12:07:39.309916Z",
          "iopub.status.idle": "2022-08-29T12:07:39.318034Z",
          "shell.execute_reply": "2022-08-29T12:07:39.316751Z"
        },
        "papermill": {
          "duration": 0.025749,
          "end_time": "2022-08-29T12:07:39.320685",
          "exception": false,
          "start_time": "2022-08-29T12:07:39.294936",
          "status": "completed"
        },
        "tags": [],
        "colab": {
          "base_uri": "https://localhost:8080/"
        },
        "id": "f3bea643",
        "outputId": "2176cae4-c8d1-4ec1-b9cb-f89a10e7f2c6"
      },
      "outputs": [
        {
          "output_type": "execute_result",
          "data": {
            "text/plain": [
              "(1338, 7)"
            ]
          },
          "metadata": {},
          "execution_count": 3
        }
      ],
      "source": [
        "# let's check the number of rows and columns in the dataset\n",
        "\n",
        "raw_data.shape"
      ]
    },
    {
      "cell_type": "markdown",
      "id": "75d17b5c",
      "metadata": {
        "papermill": {
          "duration": 0.012668,
          "end_time": "2022-08-29T12:07:39.346807",
          "exception": false,
          "start_time": "2022-08-29T12:07:39.334139",
          "status": "completed"
        },
        "tags": [],
        "id": "75d17b5c"
      },
      "source": [
        "We have 1338 rows and 7 columns in the dataset."
      ]
    },
    {
      "cell_type": "code",
      "execution_count": 4,
      "id": "64c858dd",
      "metadata": {
        "execution": {
          "iopub.execute_input": "2022-08-29T12:07:39.375363Z",
          "iopub.status.busy": "2022-08-29T12:07:39.374581Z",
          "iopub.status.idle": "2022-08-29T12:07:39.407051Z",
          "shell.execute_reply": "2022-08-29T12:07:39.405754Z"
        },
        "papermill": {
          "duration": 0.050231,
          "end_time": "2022-08-29T12:07:39.410015",
          "exception": false,
          "start_time": "2022-08-29T12:07:39.359784",
          "status": "completed"
        },
        "tags": [],
        "colab": {
          "base_uri": "https://localhost:8080/"
        },
        "id": "64c858dd",
        "outputId": "ba809620-42c1-4d76-deb9-35f0f958933b"
      },
      "outputs": [
        {
          "output_type": "stream",
          "name": "stdout",
          "text": [
            "<class 'pandas.core.frame.DataFrame'>\n",
            "RangeIndex: 1338 entries, 0 to 1337\n",
            "Data columns (total 7 columns):\n",
            " #   Column    Non-Null Count  Dtype  \n",
            "---  ------    --------------  -----  \n",
            " 0   age       1338 non-null   int64  \n",
            " 1   sex       1338 non-null   object \n",
            " 2   bmi       1338 non-null   float64\n",
            " 3   children  1338 non-null   int64  \n",
            " 4   smoker    1338 non-null   object \n",
            " 5   region    1338 non-null   object \n",
            " 6   charges   1338 non-null   float64\n",
            "dtypes: float64(2), int64(2), object(3)\n",
            "memory usage: 73.3+ KB\n"
          ]
        }
      ],
      "source": [
        "# Some more information about the dataset\n",
        "\n",
        "raw_data.info()"
      ]
    },
    {
      "cell_type": "code",
      "execution_count": 5,
      "id": "cf770ff6",
      "metadata": {
        "execution": {
          "iopub.execute_input": "2022-08-29T12:07:39.439596Z",
          "iopub.status.busy": "2022-08-29T12:07:39.438611Z",
          "iopub.status.idle": "2022-08-29T12:07:39.474023Z",
          "shell.execute_reply": "2022-08-29T12:07:39.472504Z"
        },
        "papermill": {
          "duration": 0.053279,
          "end_time": "2022-08-29T12:07:39.476923",
          "exception": false,
          "start_time": "2022-08-29T12:07:39.423644",
          "status": "completed"
        },
        "tags": [],
        "colab": {
          "base_uri": "https://localhost:8080/",
          "height": 394
        },
        "id": "cf770ff6",
        "outputId": "a03f8427-3d13-4dc2-b082-3912f62841b7"
      },
      "outputs": [
        {
          "output_type": "execute_result",
          "data": {
            "text/plain": [
              "                age   sex          bmi     children smoker     region  \\\n",
              "count   1338.000000  1338  1338.000000  1338.000000   1338       1338   \n",
              "unique          NaN     2          NaN          NaN      2          4   \n",
              "top             NaN  male          NaN          NaN     no  southeast   \n",
              "freq            NaN   676          NaN          NaN   1064        364   \n",
              "mean      39.207025   NaN    30.663397     1.094918    NaN        NaN   \n",
              "std       14.049960   NaN     6.098187     1.205493    NaN        NaN   \n",
              "min       18.000000   NaN    15.960000     0.000000    NaN        NaN   \n",
              "25%       27.000000   NaN    26.296250     0.000000    NaN        NaN   \n",
              "50%       39.000000   NaN    30.400000     1.000000    NaN        NaN   \n",
              "75%       51.000000   NaN    34.693750     2.000000    NaN        NaN   \n",
              "max       64.000000   NaN    53.130000     5.000000    NaN        NaN   \n",
              "\n",
              "             charges  \n",
              "count    1338.000000  \n",
              "unique           NaN  \n",
              "top              NaN  \n",
              "freq             NaN  \n",
              "mean    13270.422265  \n",
              "std     12110.011237  \n",
              "min      1121.873900  \n",
              "25%      4740.287150  \n",
              "50%      9382.033000  \n",
              "75%     16639.912515  \n",
              "max     63770.428010  "
            ],
            "text/html": [
              "\n",
              "  <div id=\"df-d3d34658-21b7-4ba6-8ce9-08608d8141f3\">\n",
              "    <div class=\"colab-df-container\">\n",
              "      <div>\n",
              "<style scoped>\n",
              "    .dataframe tbody tr th:only-of-type {\n",
              "        vertical-align: middle;\n",
              "    }\n",
              "\n",
              "    .dataframe tbody tr th {\n",
              "        vertical-align: top;\n",
              "    }\n",
              "\n",
              "    .dataframe thead th {\n",
              "        text-align: right;\n",
              "    }\n",
              "</style>\n",
              "<table border=\"1\" class=\"dataframe\">\n",
              "  <thead>\n",
              "    <tr style=\"text-align: right;\">\n",
              "      <th></th>\n",
              "      <th>age</th>\n",
              "      <th>sex</th>\n",
              "      <th>bmi</th>\n",
              "      <th>children</th>\n",
              "      <th>smoker</th>\n",
              "      <th>region</th>\n",
              "      <th>charges</th>\n",
              "    </tr>\n",
              "  </thead>\n",
              "  <tbody>\n",
              "    <tr>\n",
              "      <th>count</th>\n",
              "      <td>1338.000000</td>\n",
              "      <td>1338</td>\n",
              "      <td>1338.000000</td>\n",
              "      <td>1338.000000</td>\n",
              "      <td>1338</td>\n",
              "      <td>1338</td>\n",
              "      <td>1338.000000</td>\n",
              "    </tr>\n",
              "    <tr>\n",
              "      <th>unique</th>\n",
              "      <td>NaN</td>\n",
              "      <td>2</td>\n",
              "      <td>NaN</td>\n",
              "      <td>NaN</td>\n",
              "      <td>2</td>\n",
              "      <td>4</td>\n",
              "      <td>NaN</td>\n",
              "    </tr>\n",
              "    <tr>\n",
              "      <th>top</th>\n",
              "      <td>NaN</td>\n",
              "      <td>male</td>\n",
              "      <td>NaN</td>\n",
              "      <td>NaN</td>\n",
              "      <td>no</td>\n",
              "      <td>southeast</td>\n",
              "      <td>NaN</td>\n",
              "    </tr>\n",
              "    <tr>\n",
              "      <th>freq</th>\n",
              "      <td>NaN</td>\n",
              "      <td>676</td>\n",
              "      <td>NaN</td>\n",
              "      <td>NaN</td>\n",
              "      <td>1064</td>\n",
              "      <td>364</td>\n",
              "      <td>NaN</td>\n",
              "    </tr>\n",
              "    <tr>\n",
              "      <th>mean</th>\n",
              "      <td>39.207025</td>\n",
              "      <td>NaN</td>\n",
              "      <td>30.663397</td>\n",
              "      <td>1.094918</td>\n",
              "      <td>NaN</td>\n",
              "      <td>NaN</td>\n",
              "      <td>13270.422265</td>\n",
              "    </tr>\n",
              "    <tr>\n",
              "      <th>std</th>\n",
              "      <td>14.049960</td>\n",
              "      <td>NaN</td>\n",
              "      <td>6.098187</td>\n",
              "      <td>1.205493</td>\n",
              "      <td>NaN</td>\n",
              "      <td>NaN</td>\n",
              "      <td>12110.011237</td>\n",
              "    </tr>\n",
              "    <tr>\n",
              "      <th>min</th>\n",
              "      <td>18.000000</td>\n",
              "      <td>NaN</td>\n",
              "      <td>15.960000</td>\n",
              "      <td>0.000000</td>\n",
              "      <td>NaN</td>\n",
              "      <td>NaN</td>\n",
              "      <td>1121.873900</td>\n",
              "    </tr>\n",
              "    <tr>\n",
              "      <th>25%</th>\n",
              "      <td>27.000000</td>\n",
              "      <td>NaN</td>\n",
              "      <td>26.296250</td>\n",
              "      <td>0.000000</td>\n",
              "      <td>NaN</td>\n",
              "      <td>NaN</td>\n",
              "      <td>4740.287150</td>\n",
              "    </tr>\n",
              "    <tr>\n",
              "      <th>50%</th>\n",
              "      <td>39.000000</td>\n",
              "      <td>NaN</td>\n",
              "      <td>30.400000</td>\n",
              "      <td>1.000000</td>\n",
              "      <td>NaN</td>\n",
              "      <td>NaN</td>\n",
              "      <td>9382.033000</td>\n",
              "    </tr>\n",
              "    <tr>\n",
              "      <th>75%</th>\n",
              "      <td>51.000000</td>\n",
              "      <td>NaN</td>\n",
              "      <td>34.693750</td>\n",
              "      <td>2.000000</td>\n",
              "      <td>NaN</td>\n",
              "      <td>NaN</td>\n",
              "      <td>16639.912515</td>\n",
              "    </tr>\n",
              "    <tr>\n",
              "      <th>max</th>\n",
              "      <td>64.000000</td>\n",
              "      <td>NaN</td>\n",
              "      <td>53.130000</td>\n",
              "      <td>5.000000</td>\n",
              "      <td>NaN</td>\n",
              "      <td>NaN</td>\n",
              "      <td>63770.428010</td>\n",
              "    </tr>\n",
              "  </tbody>\n",
              "</table>\n",
              "</div>\n",
              "      <button class=\"colab-df-convert\" onclick=\"convertToInteractive('df-d3d34658-21b7-4ba6-8ce9-08608d8141f3')\"\n",
              "              title=\"Convert this dataframe to an interactive table.\"\n",
              "              style=\"display:none;\">\n",
              "        \n",
              "  <svg xmlns=\"http://www.w3.org/2000/svg\" height=\"24px\"viewBox=\"0 0 24 24\"\n",
              "       width=\"24px\">\n",
              "    <path d=\"M0 0h24v24H0V0z\" fill=\"none\"/>\n",
              "    <path d=\"M18.56 5.44l.94 2.06.94-2.06 2.06-.94-2.06-.94-.94-2.06-.94 2.06-2.06.94zm-11 1L8.5 8.5l.94-2.06 2.06-.94-2.06-.94L8.5 2.5l-.94 2.06-2.06.94zm10 10l.94 2.06.94-2.06 2.06-.94-2.06-.94-.94-2.06-.94 2.06-2.06.94z\"/><path d=\"M17.41 7.96l-1.37-1.37c-.4-.4-.92-.59-1.43-.59-.52 0-1.04.2-1.43.59L10.3 9.45l-7.72 7.72c-.78.78-.78 2.05 0 2.83L4 21.41c.39.39.9.59 1.41.59.51 0 1.02-.2 1.41-.59l7.78-7.78 2.81-2.81c.8-.78.8-2.07 0-2.86zM5.41 20L4 18.59l7.72-7.72 1.47 1.35L5.41 20z\"/>\n",
              "  </svg>\n",
              "      </button>\n",
              "      \n",
              "  <style>\n",
              "    .colab-df-container {\n",
              "      display:flex;\n",
              "      flex-wrap:wrap;\n",
              "      gap: 12px;\n",
              "    }\n",
              "\n",
              "    .colab-df-convert {\n",
              "      background-color: #E8F0FE;\n",
              "      border: none;\n",
              "      border-radius: 50%;\n",
              "      cursor: pointer;\n",
              "      display: none;\n",
              "      fill: #1967D2;\n",
              "      height: 32px;\n",
              "      padding: 0 0 0 0;\n",
              "      width: 32px;\n",
              "    }\n",
              "\n",
              "    .colab-df-convert:hover {\n",
              "      background-color: #E2EBFA;\n",
              "      box-shadow: 0px 1px 2px rgba(60, 64, 67, 0.3), 0px 1px 3px 1px rgba(60, 64, 67, 0.15);\n",
              "      fill: #174EA6;\n",
              "    }\n",
              "\n",
              "    [theme=dark] .colab-df-convert {\n",
              "      background-color: #3B4455;\n",
              "      fill: #D2E3FC;\n",
              "    }\n",
              "\n",
              "    [theme=dark] .colab-df-convert:hover {\n",
              "      background-color: #434B5C;\n",
              "      box-shadow: 0px 1px 3px 1px rgba(0, 0, 0, 0.15);\n",
              "      filter: drop-shadow(0px 1px 2px rgba(0, 0, 0, 0.3));\n",
              "      fill: #FFFFFF;\n",
              "    }\n",
              "  </style>\n",
              "\n",
              "      <script>\n",
              "        const buttonEl =\n",
              "          document.querySelector('#df-d3d34658-21b7-4ba6-8ce9-08608d8141f3 button.colab-df-convert');\n",
              "        buttonEl.style.display =\n",
              "          google.colab.kernel.accessAllowed ? 'block' : 'none';\n",
              "\n",
              "        async function convertToInteractive(key) {\n",
              "          const element = document.querySelector('#df-d3d34658-21b7-4ba6-8ce9-08608d8141f3');\n",
              "          const dataTable =\n",
              "            await google.colab.kernel.invokeFunction('convertToInteractive',\n",
              "                                                     [key], {});\n",
              "          if (!dataTable) return;\n",
              "\n",
              "          const docLinkHtml = 'Like what you see? Visit the ' +\n",
              "            '<a target=\"_blank\" href=https://colab.research.google.com/notebooks/data_table.ipynb>data table notebook</a>'\n",
              "            + ' to learn more about interactive tables.';\n",
              "          element.innerHTML = '';\n",
              "          dataTable['output_type'] = 'display_data';\n",
              "          await google.colab.output.renderOutput(dataTable, element);\n",
              "          const docLink = document.createElement('div');\n",
              "          docLink.innerHTML = docLinkHtml;\n",
              "          element.appendChild(docLink);\n",
              "        }\n",
              "      </script>\n",
              "    </div>\n",
              "  </div>\n",
              "  "
            ]
          },
          "metadata": {},
          "execution_count": 5
        }
      ],
      "source": [
        "# let's check the descriptive statistics of the variables\n",
        "\n",
        "raw_data.describe(include='all')"
      ]
    },
    {
      "cell_type": "markdown",
      "id": "e7f9c717",
      "metadata": {
        "papermill": {
          "duration": 0.013024,
          "end_time": "2022-08-29T12:07:39.503616",
          "exception": false,
          "start_time": "2022-08-29T12:07:39.490592",
          "status": "completed"
        },
        "tags": [],
        "id": "e7f9c717"
      },
      "source": [
        "Here, we understand that categorical variables don't have some types of numerical descriptives and numerical variables don't have some types of categorical descriptives. Therefore, we have 3 categorical variables (features) in this dataset: Sex, Smoker, and Region."
      ]
    },
    {
      "cell_type": "code",
      "execution_count": 6,
      "id": "164662cb",
      "metadata": {
        "execution": {
          "iopub.execute_input": "2022-08-29T12:07:39.533893Z",
          "iopub.status.busy": "2022-08-29T12:07:39.533400Z",
          "iopub.status.idle": "2022-08-29T12:07:39.543617Z",
          "shell.execute_reply": "2022-08-29T12:07:39.542705Z"
        },
        "papermill": {
          "duration": 0.028855,
          "end_time": "2022-08-29T12:07:39.546272",
          "exception": false,
          "start_time": "2022-08-29T12:07:39.517417",
          "status": "completed"
        },
        "tags": [],
        "colab": {
          "base_uri": "https://localhost:8080/"
        },
        "id": "164662cb",
        "outputId": "a152f9d2-bd61-400b-8670-74582f4f399b"
      },
      "outputs": [
        {
          "output_type": "execute_result",
          "data": {
            "text/plain": [
              "age         0\n",
              "sex         0\n",
              "bmi         0\n",
              "children    0\n",
              "smoker      0\n",
              "region      0\n",
              "charges     0\n",
              "dtype: int64"
            ]
          },
          "metadata": {},
          "execution_count": 6
        }
      ],
      "source": [
        "# Checking the total number of missing values\n",
        "\n",
        "raw_data.isnull().sum()"
      ]
    },
    {
      "cell_type": "markdown",
      "id": "b47c1c9e",
      "metadata": {
        "papermill": {
          "duration": 0.013287,
          "end_time": "2022-08-29T12:07:39.574215",
          "exception": false,
          "start_time": "2022-08-29T12:07:39.560928",
          "status": "completed"
        },
        "tags": [],
        "id": "b47c1c9e"
      },
      "source": [
        "Great! We do not have any missing values and won't have to drop any variables."
      ]
    },
    {
      "cell_type": "code",
      "execution_count": 7,
      "id": "5e337a7f",
      "metadata": {
        "execution": {
          "iopub.execute_input": "2022-08-29T12:07:39.603995Z",
          "iopub.status.busy": "2022-08-29T12:07:39.603218Z",
          "iopub.status.idle": "2022-08-29T12:07:39.608244Z",
          "shell.execute_reply": "2022-08-29T12:07:39.607155Z"
        },
        "papermill": {
          "duration": 0.022655,
          "end_time": "2022-08-29T12:07:39.610470",
          "exception": false,
          "start_time": "2022-08-29T12:07:39.587815",
          "status": "completed"
        },
        "tags": [],
        "id": "5e337a7f"
      },
      "outputs": [],
      "source": [
        "# We have checked the raw data and there aren't any missing values!\n",
        "\n",
        "data_no_mv = raw_data.copy()"
      ]
    },
    {
      "cell_type": "markdown",
      "id": "15daadcf",
      "metadata": {
        "papermill": {
          "duration": 0.013119,
          "end_time": "2022-08-29T12:07:39.637192",
          "exception": false,
          "start_time": "2022-08-29T12:07:39.624073",
          "status": "completed"
        },
        "tags": [],
        "id": "15daadcf"
      },
      "source": [
        "<a id=\"section-three\"></a>\n",
        "# 3. Data Exploration"
      ]
    },
    {
      "cell_type": "markdown",
      "id": "9d20e894",
      "metadata": {
        "papermill": {
          "duration": 0.012891,
          "end_time": "2022-08-29T12:07:39.663715",
          "exception": false,
          "start_time": "2022-08-29T12:07:39.650824",
          "status": "completed"
        },
        "tags": [],
        "id": "9d20e894"
      },
      "source": [
        "Displaying the probability distribution function (PDF) of a variable is a fantastic data exploration step. We will see how that variable is spread in the PDF. This makes it very simple to identify outliers and other irregularities. Frequently, the PDF also serves as the foundation for our decision over whether to alter a feature."
      ]
    },
    {
      "cell_type": "code",
      "execution_count": 8,
      "id": "cd3e126d",
      "metadata": {
        "execution": {
          "iopub.execute_input": "2022-08-29T12:07:39.693912Z",
          "iopub.status.busy": "2022-08-29T12:07:39.693173Z",
          "iopub.status.idle": "2022-08-29T12:07:40.169587Z",
          "shell.execute_reply": "2022-08-29T12:07:40.168340Z"
        },
        "papermill": {
          "duration": 0.495352,
          "end_time": "2022-08-29T12:07:40.172445",
          "exception": false,
          "start_time": "2022-08-29T12:07:39.677093",
          "status": "completed"
        },
        "tags": [],
        "colab": {
          "base_uri": "https://localhost:8080/",
          "height": 381
        },
        "id": "cd3e126d",
        "outputId": "89d388c6-aad4-4aed-8847-24824b546562"
      },
      "outputs": [
        {
          "output_type": "display_data",
          "data": {
            "text/plain": [
              "<Figure size 360x360 with 1 Axes>"
            ],
            "image/png": "[encoded data removed]"
          },
          "metadata": {}
        }
      ],
      "source": [
        "# distribution of age variable\n",
        "\n",
        "sns.displot(data_no_mv['age'])\n",
        "plt.title('Distribution of Age')\n",
        "plt.show()"
      ]
    },
    {
      "cell_type": "markdown",
      "id": "0f5795a6",
      "metadata": {
        "papermill": {
          "duration": 0.013284,
          "end_time": "2022-08-29T12:07:40.199632",
          "exception": false,
          "start_time": "2022-08-29T12:07:40.186348",
          "status": "completed"
        },
        "tags": [],
        "id": "0f5795a6"
      },
      "source": [
        "As the figure represents that the highest density of people is of age 20-23. From age 24 to 70, the distribution is almost equal."
      ]
    },
    {
      "cell_type": "code",
      "execution_count": 9,
      "id": "35f532cc",
      "metadata": {
        "execution": {
          "iopub.execute_input": "2022-08-29T12:07:40.229283Z",
          "iopub.status.busy": "2022-08-29T12:07:40.228808Z",
          "iopub.status.idle": "2022-08-29T12:07:40.459314Z",
          "shell.execute_reply": "2022-08-29T12:07:40.457948Z"
        },
        "papermill": {
          "duration": 0.249062,
          "end_time": "2022-08-29T12:07:40.462468",
          "exception": false,
          "start_time": "2022-08-29T12:07:40.213406",
          "status": "completed"
        },
        "tags": [],
        "colab": {
          "base_uri": "https://localhost:8080/",
          "height": 318
        },
        "id": "35f532cc",
        "outputId": "cb457edc-ba28-45b0-d0be-0246b84a1eb7"
      },
      "outputs": [
        {
          "output_type": "execute_result",
          "data": {
            "text/plain": [
              "<function matplotlib.pyplot.show(*args, **kw)>"
            ]
          },
          "metadata": {},
          "execution_count": 9
        },
        {
          "output_type": "display_data",
          "data": {
            "text/plain": [
              "<Figure size 432x288 with 1 Axes>"
            ],
            "image/png": "[encoded data removed]"
          },
          "metadata": {}
        }
      ],
      "source": [
        "# plot of sex variables\n",
        "\n",
        "sns.countplot(x = 'sex', data = data_no_mv)\n",
        "plt.title('Distribution of sex')\n",
        "plt.show"
      ]
    },
    {
      "cell_type": "markdown",
      "id": "ecf72df6",
      "metadata": {
        "papermill": {
          "duration": 0.014071,
          "end_time": "2022-08-29T12:07:40.491620",
          "exception": false,
          "start_time": "2022-08-29T12:07:40.477549",
          "status": "completed"
        },
        "tags": [],
        "id": "ecf72df6"
      },
      "source": [
        "Firstly, we are using 'sns.countplot' because 'sex' is a categorical variables and to represent in a better way.\n",
        "The figure shows that the number of male and female is almost equal."
      ]
    },
    {
      "cell_type": "code",
      "execution_count": 10,
      "id": "fb537897",
      "metadata": {
        "execution": {
          "iopub.execute_input": "2022-08-29T12:07:40.525130Z",
          "iopub.status.busy": "2022-08-29T12:07:40.524584Z",
          "iopub.status.idle": "2022-08-29T12:07:40.985242Z",
          "shell.execute_reply": "2022-08-29T12:07:40.983617Z"
        },
        "papermill": {
          "duration": 0.481219,
          "end_time": "2022-08-29T12:07:40.988610",
          "exception": false,
          "start_time": "2022-08-29T12:07:40.507391",
          "status": "completed"
        },
        "tags": [],
        "colab": {
          "base_uri": "https://localhost:8080/",
          "height": 381
        },
        "id": "fb537897",
        "outputId": "e1d7bf43-4070-4807-b999-a255bb2dc917"
      },
      "outputs": [
        {
          "output_type": "display_data",
          "data": {
            "text/plain": [
              "<Figure size 360x360 with 1 Axes>"
            ],
            "image/png": "[encoded data removed]"
          },
          "metadata": {}
        }
      ],
      "source": [
        "# distribution of bmi variable\n",
        "\n",
        "sns.displot(data_no_mv['bmi'])\n",
        "plt.title('Distribution of BMI')\n",
        "plt.show()"
      ]
    },
    {
      "cell_type": "markdown",
      "id": "1d07d942",
      "metadata": {
        "papermill": {
          "duration": 0.01427,
          "end_time": "2022-08-29T12:07:41.018643",
          "exception": false,
          "start_time": "2022-08-29T12:07:41.004373",
          "status": "completed"
        },
        "tags": [],
        "id": "1d07d942"
      },
      "source": [
        "This kind of distribution is normal distribution. The figure shows that we have an gradual increase from 15 to reach the peak values of 30. Then there is a gradual decrease. We may also notice very few outliers and we will take care of them later.\n",
        "\n",
        "According to the research,\n",
        "Normal BMI range is 18.5 to 24.9. A person exceeding the limit is overweight and the person below this limit is underweight. We could see that there are more number of people in this dataset that are overweight!"
      ]
    },
    {
      "cell_type": "code",
      "execution_count": 11,
      "id": "c8bf9dbf",
      "metadata": {
        "execution": {
          "iopub.execute_input": "2022-08-29T12:07:41.051944Z",
          "iopub.status.busy": "2022-08-29T12:07:41.050603Z",
          "iopub.status.idle": "2022-08-29T12:07:41.280646Z",
          "shell.execute_reply": "2022-08-29T12:07:41.279368Z"
        },
        "papermill": {
          "duration": 0.249454,
          "end_time": "2022-08-29T12:07:41.283468",
          "exception": false,
          "start_time": "2022-08-29T12:07:41.034014",
          "status": "completed"
        },
        "tags": [],
        "colab": {
          "base_uri": "https://localhost:8080/",
          "height": 301
        },
        "id": "c8bf9dbf",
        "outputId": "aba552f9-bb47-470a-c3f1-7eeed8d25e4e"
      },
      "outputs": [
        {
          "output_type": "display_data",
          "data": {
            "text/plain": [
              "<Figure size 432x288 with 1 Axes>"
            ],
            "image/png": "[encoded data removed]"
          },
          "metadata": {}
        }
      ],
      "source": [
        "# plot of children variable\n",
        "\n",
        "sns.countplot(x = 'children', data = data_no_mv)\n",
        "plt.title('Children')\n",
        "plt.show()"
      ]
    },
    {
      "cell_type": "markdown",
      "id": "f60b5157",
      "metadata": {
        "papermill": {
          "duration": 0.014323,
          "end_time": "2022-08-29T12:07:41.312578",
          "exception": false,
          "start_time": "2022-08-29T12:07:41.298255",
          "status": "completed"
        },
        "tags": [],
        "id": "f60b5157"
      },
      "source": [
        "According to the figure, there are more number of people with no children. Then there are people having 1-3 children and there are very less people having 4-5 children."
      ]
    },
    {
      "cell_type": "code",
      "execution_count": 12,
      "id": "7cb102a0",
      "metadata": {
        "execution": {
          "iopub.execute_input": "2022-08-29T12:07:41.345108Z",
          "iopub.status.busy": "2022-08-29T12:07:41.344105Z",
          "iopub.status.idle": "2022-08-29T12:07:41.531454Z",
          "shell.execute_reply": "2022-08-29T12:07:41.530195Z"
        },
        "papermill": {
          "duration": 0.207126,
          "end_time": "2022-08-29T12:07:41.534480",
          "exception": false,
          "start_time": "2022-08-29T12:07:41.327354",
          "status": "completed"
        },
        "tags": [],
        "colab": {
          "base_uri": "https://localhost:8080/",
          "height": 301
        },
        "id": "7cb102a0",
        "outputId": "23b5266d-576a-4807-82cf-dbc23a0e8663"
      },
      "outputs": [
        {
          "output_type": "display_data",
          "data": {
            "text/plain": [
              "<Figure size 432x288 with 1 Axes>"
            ],
            "image/png": "[encoded data removed]"
          },
          "metadata": {}
        }
      ],
      "source": [
        "# plot of smoker variable\n",
        "\n",
        "sns.countplot(x = 'smoker', data = data_no_mv)\n",
        "plt.title('Smoker')\n",
        "plt.show()"
      ]
    },
    {
      "cell_type": "markdown",
      "id": "fff9a695",
      "metadata": {
        "papermill": {
          "duration": 0.014749,
          "end_time": "2022-08-29T12:07:41.564237",
          "exception": false,
          "start_time": "2022-08-29T12:07:41.549488",
          "status": "completed"
        },
        "tags": [],
        "id": "fff9a695"
      },
      "source": [
        "In this dataset, there are more non-smokers than smokers."
      ]
    },
    {
      "cell_type": "code",
      "execution_count": 13,
      "id": "96c701b0",
      "metadata": {
        "execution": {
          "iopub.execute_input": "2022-08-29T12:07:41.596647Z",
          "iopub.status.busy": "2022-08-29T12:07:41.596126Z",
          "iopub.status.idle": "2022-08-29T12:07:41.814735Z",
          "shell.execute_reply": "2022-08-29T12:07:41.813381Z"
        },
        "papermill": {
          "duration": 0.23821,
          "end_time": "2022-08-29T12:07:41.817585",
          "exception": false,
          "start_time": "2022-08-29T12:07:41.579375",
          "status": "completed"
        },
        "tags": [],
        "colab": {
          "base_uri": "https://localhost:8080/",
          "height": 301
        },
        "id": "96c701b0",
        "outputId": "ace8060c-3ea3-4b27-de4a-d2043463fde5"
      },
      "outputs": [
        {
          "output_type": "display_data",
          "data": {
            "text/plain": [
              "<Figure size 432x288 with 1 Axes>"
            ],
            "image/png": "[encoded data removed]"
          },
          "metadata": {}
        }
      ],
      "source": [
        "# plot of region variable\n",
        "\n",
        "sns.countplot(x = 'region', data = data_no_mv)\n",
        "plt.title('Region')\n",
        "plt.show()"
      ]
    },
    {
      "cell_type": "markdown",
      "id": "9bf854f9",
      "metadata": {
        "papermill": {
          "duration": 0.015155,
          "end_time": "2022-08-29T12:07:41.849559",
          "exception": false,
          "start_time": "2022-08-29T12:07:41.834404",
          "status": "completed"
        },
        "tags": [],
        "id": "9bf854f9"
      },
      "source": [
        "We have four regions: Southwest, Southeast, Northwest, and Northeast. People are equally distributed in all the regions with southeast having slightly more number of people than other regions."
      ]
    },
    {
      "cell_type": "code",
      "execution_count": 14,
      "id": "eff5312f",
      "metadata": {
        "execution": {
          "iopub.execute_input": "2022-08-29T12:07:41.882451Z",
          "iopub.status.busy": "2022-08-29T12:07:41.881945Z",
          "iopub.status.idle": "2022-08-29T12:07:42.352103Z",
          "shell.execute_reply": "2022-08-29T12:07:42.350753Z"
        },
        "papermill": {
          "duration": 0.489816,
          "end_time": "2022-08-29T12:07:42.354795",
          "exception": false,
          "start_time": "2022-08-29T12:07:41.864979",
          "status": "completed"
        },
        "tags": [],
        "colab": {
          "base_uri": "https://localhost:8080/",
          "height": 381
        },
        "id": "eff5312f",
        "outputId": "dd9514dc-f3a4-4330-a25a-f428cbc14ffc"
      },
      "outputs": [
        {
          "output_type": "display_data",
          "data": {
            "text/plain": [
              "<Figure size 360x360 with 1 Axes>"
            ],
            "image/png": "[encoded data removed]"
          },
          "metadata": {}
        }
      ],
      "source": [
        "# distribution of charges variable\n",
        "\n",
        "sns.displot(data_no_mv['charges'])\n",
        "plt.title('Distribution of Charges')\n",
        "plt.show()"
      ]
    },
    {
      "cell_type": "markdown",
      "id": "6985f20b",
      "metadata": {
        "papermill": {
          "duration": 0.015492,
          "end_time": "2022-08-29T12:07:42.386086",
          "exception": false,
          "start_time": "2022-08-29T12:07:42.370594",
          "status": "completed"
        },
        "tags": [],
        "id": "6985f20b"
      },
      "source": [
        "Mostly, the charges are around 1000-10,000 dollars."
      ]
    },
    {
      "cell_type": "markdown",
      "id": "9bffed57",
      "metadata": {
        "papermill": {
          "duration": 0.015272,
          "end_time": "2022-08-29T12:07:42.417299",
          "exception": false,
          "start_time": "2022-08-29T12:07:42.402027",
          "status": "completed"
        },
        "tags": [],
        "id": "9bffed57"
      },
      "source": [
        "<a id=\"section-four\"></a>\n",
        "# 4. Data Pre-Processing"
      ]
    },
    {
      "cell_type": "markdown",
      "id": "96ddd781",
      "metadata": {
        "papermill": {
          "duration": 0.015889,
          "end_time": "2022-08-29T12:07:42.448828",
          "exception": false,
          "start_time": "2022-08-29T12:07:42.432939",
          "status": "completed"
        },
        "tags": [],
        "id": "96ddd781"
      },
      "source": [
        "<a id=\"section-four-two\"></a>\n",
        "## Encoding the categorical features"
      ]
    },
    {
      "cell_type": "code",
      "execution_count": 15,
      "id": "04e3eb38",
      "metadata": {
        "execution": {
          "iopub.execute_input": "2022-08-29T12:07:42.482404Z",
          "iopub.status.busy": "2022-08-29T12:07:42.481893Z",
          "iopub.status.idle": "2022-08-29T12:07:42.501095Z",
          "shell.execute_reply": "2022-08-29T12:07:42.499981Z"
        },
        "papermill": {
          "duration": 0.038699,
          "end_time": "2022-08-29T12:07:42.503285",
          "exception": false,
          "start_time": "2022-08-29T12:07:42.464586",
          "status": "completed"
        },
        "tags": [],
        "colab": {
          "base_uri": "https://localhost:8080/",
          "height": 0
        },
        "id": "04e3eb38",
        "outputId": "a32d5322-6e9b-4336-cd4f-22175963abdf"
      },
      "outputs": [
        {
          "output_type": "execute_result",
          "data": {
            "text/plain": [
              "   age     sex     bmi  children  smoker     region      charges\n",
              "0   19  female  27.900         0       1  southwest  16884.92400\n",
              "1   18    male  33.770         1       0  southeast   1725.55230\n",
              "2   28    male  33.000         3       0  southeast   4449.46200\n",
              "3   33    male  22.705         0       0  northwest  21984.47061\n",
              "4   32    male  28.880         0       0  northwest   3866.85520"
            ],
            "text/html": [
              "\n",
              "  <div id=\"df-fde1fd11-e59a-4e00-bc99-7d0676661d95\">\n",
              "    <div class=\"colab-df-container\">\n",
              "      <div>\n",
              "<style scoped>\n",
              "    .dataframe tbody tr th:only-of-type {\n",
              "        vertical-align: middle;\n",
              "    }\n",
              "\n",
              "    .dataframe tbody tr th {\n",
              "        vertical-align: top;\n",
              "    }\n",
              "\n",
              "    .dataframe thead th {\n",
              "        text-align: right;\n",
              "    }\n",
              "</style>\n",
              "<table border=\"1\" class=\"dataframe\">\n",
              "  <thead>\n",
              "    <tr style=\"text-align: right;\">\n",
              "      <th></th>\n",
              "      <th>age</th>\n",
              "      <th>sex</th>\n",
              "      <th>bmi</th>\n",
              "      <th>children</th>\n",
              "      <th>smoker</th>\n",
              "      <th>region</th>\n",
              "      <th>charges</th>\n",
              "    </tr>\n",
              "  </thead>\n",
              "  <tbody>\n",
              "    <tr>\n",
              "      <th>0</th>\n",
              "      <td>19</td>\n",
              "      <td>female</td>\n",
              "      <td>27.900</td>\n",
              "      <td>0</td>\n",
              "      <td>1</td>\n",
              "      <td>southwest</td>\n",
              "      <td>16884.92400</td>\n",
              "    </tr>\n",
              "    <tr>\n",
              "      <th>1</th>\n",
              "      <td>18</td>\n",
              "      <td>male</td>\n",
              "      <td>33.770</td>\n",
              "      <td>1</td>\n",
              "      <td>0</td>\n",
              "      <td>southeast</td>\n",
              "      <td>1725.55230</td>\n",
              "    </tr>\n",
              "    <tr>\n",
              "      <th>2</th>\n",
              "      <td>28</td>\n",
              "      <td>male</td>\n",
              "      <td>33.000</td>\n",
              "      <td>3</td>\n",
              "      <td>0</td>\n",
              "      <td>southeast</td>\n",
              "      <td>4449.46200</td>\n",
              "    </tr>\n",
              "    <tr>\n",
              "      <th>3</th>\n",
              "      <td>33</td>\n",
              "      <td>male</td>\n",
              "      <td>22.705</td>\n",
              "      <td>0</td>\n",
              "      <td>0</td>\n",
              "      <td>northwest</td>\n",
              "      <td>21984.47061</td>\n",
              "    </tr>\n",
              "    <tr>\n",
              "      <th>4</th>\n",
              "      <td>32</td>\n",
              "      <td>male</td>\n",
              "      <td>28.880</td>\n",
              "      <td>0</td>\n",
              "      <td>0</td>\n",
              "      <td>northwest</td>\n",
              "      <td>3866.85520</td>\n",
              "    </tr>\n",
              "  </tbody>\n",
              "</table>\n",
              "</div>\n",
              "      <button class=\"colab-df-convert\" onclick=\"convertToInteractive('df-fde1fd11-e59a-4e00-bc99-7d0676661d95')\"\n",
              "              title=\"Convert this dataframe to an interactive table.\"\n",
              "              style=\"display:none;\">\n",
              "        \n",
              "  <svg xmlns=\"http://www.w3.org/2000/svg\" height=\"24px\"viewBox=\"0 0 24 24\"\n",
              "       width=\"24px\">\n",
              "    <path d=\"M0 0h24v24H0V0z\" fill=\"none\"/>\n",
              "    <path d=\"M18.56 5.44l.94 2.06.94-2.06 2.06-.94-2.06-.94-.94-2.06-.94 2.06-2.06.94zm-11 1L8.5 8.5l.94-2.06 2.06-.94-2.06-.94L8.5 2.5l-.94 2.06-2.06.94zm10 10l.94 2.06.94-2.06 2.06-.94-2.06-.94-.94-2.06-.94 2.06-2.06.94z\"/><path d=\"M17.41 7.96l-1.37-1.37c-.4-.4-.92-.59-1.43-.59-.52 0-1.04.2-1.43.59L10.3 9.45l-7.72 7.72c-.78.78-.78 2.05 0 2.83L4 21.41c.39.39.9.59 1.41.59.51 0 1.02-.2 1.41-.59l7.78-7.78 2.81-2.81c.8-.78.8-2.07 0-2.86zM5.41 20L4 18.59l7.72-7.72 1.47 1.35L5.41 20z\"/>\n",
              "  </svg>\n",
              "      </button>\n",
              "      \n",
              "  <style>\n",
              "    .colab-df-container {\n",
              "      display:flex;\n",
              "      flex-wrap:wrap;\n",
              "      gap: 12px;\n",
              "    }\n",
              "\n",
              "    .colab-df-convert {\n",
              "      background-color: #E8F0FE;\n",
              "      border: none;\n",
              "      border-radius: 50%;\n",
              "      cursor: pointer;\n",
              "      display: none;\n",
              "      fill: #1967D2;\n",
              "      height: 32px;\n",
              "      padding: 0 0 0 0;\n",
              "      width: 32px;\n",
              "    }\n",
              "\n",
              "    .colab-df-convert:hover {\n",
              "      background-color: #E2EBFA;\n",
              "      box-shadow: 0px 1px 2px rgba(60, 64, 67, 0.3), 0px 1px 3px 1px rgba(60, 64, 67, 0.15);\n",
              "      fill: #174EA6;\n",
              "    }\n",
              "\n",
              "    [theme=dark] .colab-df-convert {\n",
              "      background-color: #3B4455;\n",
              "      fill: #D2E3FC;\n",
              "    }\n",
              "\n",
              "    [theme=dark] .colab-df-convert:hover {\n",
              "      background-color: #434B5C;\n",
              "      box-shadow: 0px 1px 3px 1px rgba(0, 0, 0, 0.15);\n",
              "      filter: drop-shadow(0px 1px 2px rgba(0, 0, 0, 0.3));\n",
              "      fill: #FFFFFF;\n",
              "    }\n",
              "  </style>\n",
              "\n",
              "      <script>\n",
              "        const buttonEl =\n",
              "          document.querySelector('#df-fde1fd11-e59a-4e00-bc99-7d0676661d95 button.colab-df-convert');\n",
              "        buttonEl.style.display =\n",
              "          google.colab.kernel.accessAllowed ? 'block' : 'none';\n",
              "\n",
              "        async function convertToInteractive(key) {\n",
              "          const element = document.querySelector('#df-fde1fd11-e59a-4e00-bc99-7d0676661d95');\n",
              "          const dataTable =\n",
              "            await google.colab.kernel.invokeFunction('convertToInteractive',\n",
              "                                                     [key], {});\n",
              "          if (!dataTable) return;\n",
              "\n",
              "          const docLinkHtml = 'Like what you see? Visit the ' +\n",
              "            '<a target=\"_blank\" href=https://colab.research.google.com/notebooks/data_table.ipynb>data table notebook</a>'\n",
              "            + ' to learn more about interactive tables.';\n",
              "          element.innerHTML = '';\n",
              "          dataTable['output_type'] = 'display_data';\n",
              "          await google.colab.output.renderOutput(dataTable, element);\n",
              "          const docLink = document.createElement('div');\n",
              "          docLink.innerHTML = docLinkHtml;\n",
              "          element.appendChild(docLink);\n",
              "        }\n",
              "      </script>\n",
              "    </div>\n",
              "  </div>\n",
              "  "
            ]
          },
          "metadata": {},
          "execution_count": 15
        }
      ],
      "source": [
        "# Categorical features: Sex, Smoker, and Region.\n",
        "\n",
        "data = data_no_mv.copy()\n",
        "\n",
        "# Assigning values for 'smoker' feature\n",
        "\n",
        "data['smoker'] = data['smoker'].map({'yes':1, 'no':0})\n",
        "\n",
        "data.head()"
      ]
    },
    {
      "cell_type": "code",
      "execution_count": 16,
      "id": "506a94d6",
      "metadata": {
        "execution": {
          "iopub.execute_input": "2022-08-29T12:07:42.537383Z",
          "iopub.status.busy": "2022-08-29T12:07:42.536905Z",
          "iopub.status.idle": "2022-08-29T12:07:42.550878Z",
          "shell.execute_reply": "2022-08-29T12:07:42.549852Z"
        },
        "papermill": {
          "duration": 0.033991,
          "end_time": "2022-08-29T12:07:42.553334",
          "exception": false,
          "start_time": "2022-08-29T12:07:42.519343",
          "status": "completed"
        },
        "tags": [],
        "colab": {
          "base_uri": "https://localhost:8080/",
          "height": 0
        },
        "id": "506a94d6",
        "outputId": "d57eba1b-8d5e-4d90-eb8f-189db4883024"
      },
      "outputs": [
        {
          "output_type": "execute_result",
          "data": {
            "text/plain": [
              "      female  male\n",
              "0          1     0\n",
              "1          0     1\n",
              "2          0     1\n",
              "3          0     1\n",
              "4          0     1\n",
              "...      ...   ...\n",
              "1333       0     1\n",
              "1334       1     0\n",
              "1335       1     0\n",
              "1336       1     0\n",
              "1337       1     0\n",
              "\n",
              "[1338 rows x 2 columns]"
            ],
            "text/html": [
              "\n",
              "  <div id=\"df-2354a6c1-998e-4bfe-b243-7f97e3a9668b\">\n",
              "    <div class=\"colab-df-container\">\n",
              "      <div>\n",
              "<style scoped>\n",
              "    .dataframe tbody tr th:only-of-type {\n",
              "        vertical-align: middle;\n",
              "    }\n",
              "\n",
              "    .dataframe tbody tr th {\n",
              "        vertical-align: top;\n",
              "    }\n",
              "\n",
              "    .dataframe thead th {\n",
              "        text-align: right;\n",
              "    }\n",
              "</style>\n",
              "<table border=\"1\" class=\"dataframe\">\n",
              "  <thead>\n",
              "    <tr style=\"text-align: right;\">\n",
              "      <th></th>\n",
              "      <th>female</th>\n",
              "      <th>male</th>\n",
              "    </tr>\n",
              "  </thead>\n",
              "  <tbody>\n",
              "    <tr>\n",
              "      <th>0</th>\n",
              "      <td>1</td>\n",
              "      <td>0</td>\n",
              "    </tr>\n",
              "    <tr>\n",
              "      <th>1</th>\n",
              "      <td>0</td>\n",
              "      <td>1</td>\n",
              "    </tr>\n",
              "    <tr>\n",
              "      <th>2</th>\n",
              "      <td>0</td>\n",
              "      <td>1</td>\n",
              "    </tr>\n",
              "    <tr>\n",
              "      <th>3</th>\n",
              "      <td>0</td>\n",
              "      <td>1</td>\n",
              "    </tr>\n",
              "    <tr>\n",
              "      <th>4</th>\n",
              "      <td>0</td>\n",
              "      <td>1</td>\n",
              "    </tr>\n",
              "    <tr>\n",
              "      <th>...</th>\n",
              "      <td>...</td>\n",
              "      <td>...</td>\n",
              "    </tr>\n",
              "    <tr>\n",
              "      <th>1333</th>\n",
              "      <td>0</td>\n",
              "      <td>1</td>\n",
              "    </tr>\n",
              "    <tr>\n",
              "      <th>1334</th>\n",
              "      <td>1</td>\n",
              "      <td>0</td>\n",
              "    </tr>\n",
              "    <tr>\n",
              "      <th>1335</th>\n",
              "      <td>1</td>\n",
              "      <td>0</td>\n",
              "    </tr>\n",
              "    <tr>\n",
              "      <th>1336</th>\n",
              "      <td>1</td>\n",
              "      <td>0</td>\n",
              "    </tr>\n",
              "    <tr>\n",
              "      <th>1337</th>\n",
              "      <td>1</td>\n",
              "      <td>0</td>\n",
              "    </tr>\n",
              "  </tbody>\n",
              "</table>\n",
              "<p>1338 rows × 2 columns</p>\n",
              "</div>\n",
              "      <button class=\"colab-df-convert\" onclick=\"convertToInteractive('df-2354a6c1-998e-4bfe-b243-7f97e3a9668b')\"\n",
              "              title=\"Convert this dataframe to an interactive table.\"\n",
              "              style=\"display:none;\">\n",
              "        \n",
              "  <svg xmlns=\"http://www.w3.org/2000/svg\" height=\"24px\"viewBox=\"0 0 24 24\"\n",
              "       width=\"24px\">\n",
              "    <path d=\"M0 0h24v24H0V0z\" fill=\"none\"/>\n",
              "    <path d=\"M18.56 5.44l.94 2.06.94-2.06 2.06-.94-2.06-.94-.94-2.06-.94 2.06-2.06.94zm-11 1L8.5 8.5l.94-2.06 2.06-.94-2.06-.94L8.5 2.5l-.94 2.06-2.06.94zm10 10l.94 2.06.94-2.06 2.06-.94-2.06-.94-.94-2.06-.94 2.06-2.06.94z\"/><path d=\"M17.41 7.96l-1.37-1.37c-.4-.4-.92-.59-1.43-.59-.52 0-1.04.2-1.43.59L10.3 9.45l-7.72 7.72c-.78.78-.78 2.05 0 2.83L4 21.41c.39.39.9.59 1.41.59.51 0 1.02-.2 1.41-.59l7.78-7.78 2.81-2.81c.8-.78.8-2.07 0-2.86zM5.41 20L4 18.59l7.72-7.72 1.47 1.35L5.41 20z\"/>\n",
              "  </svg>\n",
              "      </button>\n",
              "      \n",
              "  <style>\n",
              "    .colab-df-container {\n",
              "      display:flex;\n",
              "      flex-wrap:wrap;\n",
              "      gap: 12px;\n",
              "    }\n",
              "\n",
              "    .colab-df-convert {\n",
              "      background-color: #E8F0FE;\n",
              "      border: none;\n",
              "      border-radius: 50%;\n",
              "      cursor: pointer;\n",
              "      display: none;\n",
              "      fill: #1967D2;\n",
              "      height: 32px;\n",
              "      padding: 0 0 0 0;\n",
              "      width: 32px;\n",
              "    }\n",
              "\n",
              "    .colab-df-convert:hover {\n",
              "      background-color: #E2EBFA;\n",
              "      box-shadow: 0px 1px 2px rgba(60, 64, 67, 0.3), 0px 1px 3px 1px rgba(60, 64, 67, 0.15);\n",
              "      fill: #174EA6;\n",
              "    }\n",
              "\n",
              "    [theme=dark] .colab-df-convert {\n",
              "      background-color: #3B4455;\n",
              "      fill: #D2E3FC;\n",
              "    }\n",
              "\n",
              "    [theme=dark] .colab-df-convert:hover {\n",
              "      background-color: #434B5C;\n",
              "      box-shadow: 0px 1px 3px 1px rgba(0, 0, 0, 0.15);\n",
              "      filter: drop-shadow(0px 1px 2px rgba(0, 0, 0, 0.3));\n",
              "      fill: #FFFFFF;\n",
              "    }\n",
              "  </style>\n",
              "\n",
              "      <script>\n",
              "        const buttonEl =\n",
              "          document.querySelector('#df-2354a6c1-998e-4bfe-b243-7f97e3a9668b button.colab-df-convert');\n",
              "        buttonEl.style.display =\n",
              "          google.colab.kernel.accessAllowed ? 'block' : 'none';\n",
              "\n",
              "        async function convertToInteractive(key) {\n",
              "          const element = document.querySelector('#df-2354a6c1-998e-4bfe-b243-7f97e3a9668b');\n",
              "          const dataTable =\n",
              "            await google.colab.kernel.invokeFunction('convertToInteractive',\n",
              "                                                     [key], {});\n",
              "          if (!dataTable) return;\n",
              "\n",
              "          const docLinkHtml = 'Like what you see? Visit the ' +\n",
              "            '<a target=\"_blank\" href=https://colab.research.google.com/notebooks/data_table.ipynb>data table notebook</a>'\n",
              "            + ' to learn more about interactive tables.';\n",
              "          element.innerHTML = '';\n",
              "          dataTable['output_type'] = 'display_data';\n",
              "          await google.colab.output.renderOutput(dataTable, element);\n",
              "          const docLink = document.createElement('div');\n",
              "          docLink.innerHTML = docLinkHtml;\n",
              "          element.appendChild(docLink);\n",
              "        }\n",
              "      </script>\n",
              "    </div>\n",
              "  </div>\n",
              "  "
            ]
          },
          "metadata": {},
          "execution_count": 16
        }
      ],
      "source": [
        "# As we know that 'sex' and 'region' are nominal categorical variables\n",
        "# We will create dummy variable\n",
        "\n",
        "dummies = pd.get_dummies(data['sex'])\n",
        "\n",
        "# Let's have a look\n",
        "\n",
        "dummies"
      ]
    },
    {
      "cell_type": "code",
      "execution_count": 17,
      "id": "85bd75d9",
      "metadata": {
        "execution": {
          "iopub.execute_input": "2022-08-29T12:07:42.591352Z",
          "iopub.status.busy": "2022-08-29T12:07:42.590823Z",
          "iopub.status.idle": "2022-08-29T12:07:42.600511Z",
          "shell.execute_reply": "2022-08-29T12:07:42.599302Z"
        },
        "papermill": {
          "duration": 0.032907,
          "end_time": "2022-08-29T12:07:42.603092",
          "exception": false,
          "start_time": "2022-08-29T12:07:42.570185",
          "status": "completed"
        },
        "tags": [],
        "id": "85bd75d9"
      },
      "outputs": [],
      "source": [
        "# One-Hot Encoder\n",
        "# We will use this method to feed this feature to the machine\n",
        "\n",
        "ohe = OneHotEncoder()\n",
        "\n",
        "feature_array = ohe.fit_transform(data[['region']]).toarray()"
      ]
    },
    {
      "cell_type": "code",
      "execution_count": 18,
      "id": "58d00aaf",
      "metadata": {
        "execution": {
          "iopub.execute_input": "2022-08-29T12:07:42.638634Z",
          "iopub.status.busy": "2022-08-29T12:07:42.638128Z",
          "iopub.status.idle": "2022-08-29T12:07:42.644660Z",
          "shell.execute_reply": "2022-08-29T12:07:42.643451Z"
        },
        "papermill": {
          "duration": 0.027768,
          "end_time": "2022-08-29T12:07:42.647241",
          "exception": false,
          "start_time": "2022-08-29T12:07:42.619473",
          "status": "completed"
        },
        "tags": [],
        "colab": {
          "base_uri": "https://localhost:8080/"
        },
        "id": "58d00aaf",
        "outputId": "43c5049d-fc50-4c75-8783-3b204a4857ea"
      },
      "outputs": [
        {
          "output_type": "stream",
          "name": "stdout",
          "text": [
            "[array(['northeast', 'northwest', 'southeast', 'southwest'], dtype=object)]\n"
          ]
        }
      ],
      "source": [
        "# Let's see the following categories in column region\n",
        "\n",
        "feature_labels = ohe.categories_\n",
        "\n",
        "print(feature_labels)"
      ]
    },
    {
      "cell_type": "code",
      "execution_count": 19,
      "id": "87e7628f",
      "metadata": {
        "execution": {
          "iopub.execute_input": "2022-08-29T12:07:42.683803Z",
          "iopub.status.busy": "2022-08-29T12:07:42.683237Z",
          "iopub.status.idle": "2022-08-29T12:07:42.690588Z",
          "shell.execute_reply": "2022-08-29T12:07:42.689187Z"
        },
        "papermill": {
          "duration": 0.028425,
          "end_time": "2022-08-29T12:07:42.693061",
          "exception": false,
          "start_time": "2022-08-29T12:07:42.664636",
          "status": "completed"
        },
        "tags": [],
        "colab": {
          "base_uri": "https://localhost:8080/"
        },
        "id": "87e7628f",
        "outputId": "cccb7bfe-7c53-4f8f-f532-cbd4f40ef6ca"
      },
      "outputs": [
        {
          "output_type": "stream",
          "name": "stdout",
          "text": [
            "['northeast' 'northwest' 'southeast' 'southwest']\n"
          ]
        }
      ],
      "source": [
        "# Creating one array\n",
        "\n",
        "feature_labels = np.array(feature_labels).ravel()\n",
        "\n",
        "print(feature_labels)"
      ]
    },
    {
      "cell_type": "code",
      "execution_count": 20,
      "id": "6f6ce99d",
      "metadata": {
        "execution": {
          "iopub.execute_input": "2022-08-29T12:07:42.728319Z",
          "iopub.status.busy": "2022-08-29T12:07:42.727467Z",
          "iopub.status.idle": "2022-08-29T12:07:42.745150Z",
          "shell.execute_reply": "2022-08-29T12:07:42.743476Z"
        },
        "papermill": {
          "duration": 0.038221,
          "end_time": "2022-08-29T12:07:42.747744",
          "exception": false,
          "start_time": "2022-08-29T12:07:42.709523",
          "status": "completed"
        },
        "tags": [],
        "colab": {
          "base_uri": "https://localhost:8080/",
          "height": 0
        },
        "id": "6f6ce99d",
        "outputId": "784e98f9-febf-41c8-85ef-870551564714"
      },
      "outputs": [
        {
          "output_type": "execute_result",
          "data": {
            "text/plain": [
              "   northeast  northwest  southeast  southwest\n",
              "0        0.0        0.0        0.0        1.0\n",
              "1        0.0        0.0        1.0        0.0\n",
              "2        0.0        0.0        1.0        0.0\n",
              "3        0.0        1.0        0.0        0.0\n",
              "4        0.0        1.0        0.0        0.0"
            ],
            "text/html": [
              "\n",
              "  <div id=\"df-24f5ac72-0bf3-4dac-8e82-38af6599d962\">\n",
              "    <div class=\"colab-df-container\">\n",
              "      <div>\n",
              "<style scoped>\n",
              "    .dataframe tbody tr th:only-of-type {\n",
              "        vertical-align: middle;\n",
              "    }\n",
              "\n",
              "    .dataframe tbody tr th {\n",
              "        vertical-align: top;\n",
              "    }\n",
              "\n",
              "    .dataframe thead th {\n",
              "        text-align: right;\n",
              "    }\n",
              "</style>\n",
              "<table border=\"1\" class=\"dataframe\">\n",
              "  <thead>\n",
              "    <tr style=\"text-align: right;\">\n",
              "      <th></th>\n",
              "      <th>northeast</th>\n",
              "      <th>northwest</th>\n",
              "      <th>southeast</th>\n",
              "      <th>southwest</th>\n",
              "    </tr>\n",
              "  </thead>\n",
              "  <tbody>\n",
              "    <tr>\n",
              "      <th>0</th>\n",
              "      <td>0.0</td>\n",
              "      <td>0.0</td>\n",
              "      <td>0.0</td>\n",
              "      <td>1.0</td>\n",
              "    </tr>\n",
              "    <tr>\n",
              "      <th>1</th>\n",
              "      <td>0.0</td>\n",
              "      <td>0.0</td>\n",
              "      <td>1.0</td>\n",
              "      <td>0.0</td>\n",
              "    </tr>\n",
              "    <tr>\n",
              "      <th>2</th>\n",
              "      <td>0.0</td>\n",
              "      <td>0.0</td>\n",
              "      <td>1.0</td>\n",
              "      <td>0.0</td>\n",
              "    </tr>\n",
              "    <tr>\n",
              "      <th>3</th>\n",
              "      <td>0.0</td>\n",
              "      <td>1.0</td>\n",
              "      <td>0.0</td>\n",
              "      <td>0.0</td>\n",
              "    </tr>\n",
              "    <tr>\n",
              "      <th>4</th>\n",
              "      <td>0.0</td>\n",
              "      <td>1.0</td>\n",
              "      <td>0.0</td>\n",
              "      <td>0.0</td>\n",
              "    </tr>\n",
              "  </tbody>\n",
              "</table>\n",
              "</div>\n",
              "      <button class=\"colab-df-convert\" onclick=\"convertToInteractive('df-24f5ac72-0bf3-4dac-8e82-38af6599d962')\"\n",
              "              title=\"Convert this dataframe to an interactive table.\"\n",
              "              style=\"display:none;\">\n",
              "        \n",
              "  <svg xmlns=\"http://www.w3.org/2000/svg\" height=\"24px\"viewBox=\"0 0 24 24\"\n",
              "       width=\"24px\">\n",
              "    <path d=\"M0 0h24v24H0V0z\" fill=\"none\"/>\n",
              "    <path d=\"M18.56 5.44l.94 2.06.94-2.06 2.06-.94-2.06-.94-.94-2.06-.94 2.06-2.06.94zm-11 1L8.5 8.5l.94-2.06 2.06-.94-2.06-.94L8.5 2.5l-.94 2.06-2.06.94zm10 10l.94 2.06.94-2.06 2.06-.94-2.06-.94-.94-2.06-.94 2.06-2.06.94z\"/><path d=\"M17.41 7.96l-1.37-1.37c-.4-.4-.92-.59-1.43-.59-.52 0-1.04.2-1.43.59L10.3 9.45l-7.72 7.72c-.78.78-.78 2.05 0 2.83L4 21.41c.39.39.9.59 1.41.59.51 0 1.02-.2 1.41-.59l7.78-7.78 2.81-2.81c.8-.78.8-2.07 0-2.86zM5.41 20L4 18.59l7.72-7.72 1.47 1.35L5.41 20z\"/>\n",
              "  </svg>\n",
              "      </button>\n",
              "      \n",
              "  <style>\n",
              "    .colab-df-container {\n",
              "      display:flex;\n",
              "      flex-wrap:wrap;\n",
              "      gap: 12px;\n",
              "    }\n",
              "\n",
              "    .colab-df-convert {\n",
              "      background-color: #E8F0FE;\n",
              "      border: none;\n",
              "      border-radius: 50%;\n",
              "      cursor: pointer;\n",
              "      display: none;\n",
              "      fill: #1967D2;\n",
              "      height: 32px;\n",
              "      padding: 0 0 0 0;\n",
              "      width: 32px;\n",
              "    }\n",
              "\n",
              "    .colab-df-convert:hover {\n",
              "      background-color: #E2EBFA;\n",
              "      box-shadow: 0px 1px 2px rgba(60, 64, 67, 0.3), 0px 1px 3px 1px rgba(60, 64, 67, 0.15);\n",
              "      fill: #174EA6;\n",
              "    }\n",
              "\n",
              "    [theme=dark] .colab-df-convert {\n",
              "      background-color: #3B4455;\n",
              "      fill: #D2E3FC;\n",
              "    }\n",
              "\n",
              "    [theme=dark] .colab-df-convert:hover {\n",
              "      background-color: #434B5C;\n",
              "      box-shadow: 0px 1px 3px 1px rgba(0, 0, 0, 0.15);\n",
              "      filter: drop-shadow(0px 1px 2px rgba(0, 0, 0, 0.3));\n",
              "      fill: #FFFFFF;\n",
              "    }\n",
              "  </style>\n",
              "\n",
              "      <script>\n",
              "        const buttonEl =\n",
              "          document.querySelector('#df-24f5ac72-0bf3-4dac-8e82-38af6599d962 button.colab-df-convert');\n",
              "        buttonEl.style.display =\n",
              "          google.colab.kernel.accessAllowed ? 'block' : 'none';\n",
              "\n",
              "        async function convertToInteractive(key) {\n",
              "          const element = document.querySelector('#df-24f5ac72-0bf3-4dac-8e82-38af6599d962');\n",
              "          const dataTable =\n",
              "            await google.colab.kernel.invokeFunction('convertToInteractive',\n",
              "                                                     [key], {});\n",
              "          if (!dataTable) return;\n",
              "\n",
              "          const docLinkHtml = 'Like what you see? Visit the ' +\n",
              "            '<a target=\"_blank\" href=https://colab.research.google.com/notebooks/data_table.ipynb>data table notebook</a>'\n",
              "            + ' to learn more about interactive tables.';\n",
              "          element.innerHTML = '';\n",
              "          dataTable['output_type'] = 'display_data';\n",
              "          await google.colab.output.renderOutput(dataTable, element);\n",
              "          const docLink = document.createElement('div');\n",
              "          docLink.innerHTML = docLinkHtml;\n",
              "          element.appendChild(docLink);\n",
              "        }\n",
              "      </script>\n",
              "    </div>\n",
              "  </div>\n",
              "  "
            ]
          },
          "metadata": {},
          "execution_count": 20
        }
      ],
      "source": [
        "# We are now making a data frame of these labels\n",
        "\n",
        "features = pd.DataFrame(feature_array, columns = feature_labels)\n",
        "\n",
        "features.head()"
      ]
    },
    {
      "cell_type": "code",
      "execution_count": 21,
      "id": "59be0848",
      "metadata": {
        "execution": {
          "iopub.execute_input": "2022-08-29T12:07:42.784274Z",
          "iopub.status.busy": "2022-08-29T12:07:42.783690Z",
          "iopub.status.idle": "2022-08-29T12:07:42.811366Z",
          "shell.execute_reply": "2022-08-29T12:07:42.809915Z"
        },
        "papermill": {
          "duration": 0.049589,
          "end_time": "2022-08-29T12:07:42.814459",
          "exception": false,
          "start_time": "2022-08-29T12:07:42.764870",
          "status": "completed"
        },
        "tags": [],
        "colab": {
          "base_uri": "https://localhost:8080/",
          "height": 0
        },
        "id": "59be0848",
        "outputId": "a8e27e5c-1f53-49b2-ef41-7150a6d152c8"
      },
      "outputs": [
        {
          "output_type": "execute_result",
          "data": {
            "text/plain": [
              "   age     bmi  children  smoker      charges  female  male  northeast  \\\n",
              "0   19  27.900         0       1  16884.92400       1     0        0.0   \n",
              "1   18  33.770         1       0   1725.55230       0     1        0.0   \n",
              "2   28  33.000         3       0   4449.46200       0     1        0.0   \n",
              "3   33  22.705         0       0  21984.47061       0     1        0.0   \n",
              "4   32  28.880         0       0   3866.85520       0     1        0.0   \n",
              "\n",
              "   northwest  southeast  southwest  \n",
              "0        0.0        0.0        1.0  \n",
              "1        0.0        1.0        0.0  \n",
              "2        0.0        1.0        0.0  \n",
              "3        1.0        0.0        0.0  \n",
              "4        1.0        0.0        0.0  "
            ],
            "text/html": [
              "\n",
              "  <div id=\"df-26eb2590-54a1-491c-bb61-abcb4d1b5996\">\n",
              "    <div class=\"colab-df-container\">\n",
              "      <div>\n",
              "<style scoped>\n",
              "    .dataframe tbody tr th:only-of-type {\n",
              "        vertical-align: middle;\n",
              "    }\n",
              "\n",
              "    .dataframe tbody tr th {\n",
              "        vertical-align: top;\n",
              "    }\n",
              "\n",
              "    .dataframe thead th {\n",
              "        text-align: right;\n",
              "    }\n",
              "</style>\n",
              "<table border=\"1\" class=\"dataframe\">\n",
              "  <thead>\n",
              "    <tr style=\"text-align: right;\">\n",
              "      <th></th>\n",
              "      <th>age</th>\n",
              "      <th>bmi</th>\n",
              "      <th>children</th>\n",
              "      <th>smoker</th>\n",
              "      <th>charges</th>\n",
              "      <th>female</th>\n",
              "      <th>male</th>\n",
              "      <th>northeast</th>\n",
              "      <th>northwest</th>\n",
              "      <th>southeast</th>\n",
              "      <th>southwest</th>\n",
              "    </tr>\n",
              "  </thead>\n",
              "  <tbody>\n",
              "    <tr>\n",
              "      <th>0</th>\n",
              "      <td>19</td>\n",
              "      <td>27.900</td>\n",
              "      <td>0</td>\n",
              "      <td>1</td>\n",
              "      <td>16884.92400</td>\n",
              "      <td>1</td>\n",
              "      <td>0</td>\n",
              "      <td>0.0</td>\n",
              "      <td>0.0</td>\n",
              "      <td>0.0</td>\n",
              "      <td>1.0</td>\n",
              "    </tr>\n",
              "    <tr>\n",
              "      <th>1</th>\n",
              "      <td>18</td>\n",
              "      <td>33.770</td>\n",
              "      <td>1</td>\n",
              "      <td>0</td>\n",
              "      <td>1725.55230</td>\n",
              "      <td>0</td>\n",
              "      <td>1</td>\n",
              "      <td>0.0</td>\n",
              "      <td>0.0</td>\n",
              "      <td>1.0</td>\n",
              "      <td>0.0</td>\n",
              "    </tr>\n",
              "    <tr>\n",
              "      <th>2</th>\n",
              "      <td>28</td>\n",
              "      <td>33.000</td>\n",
              "      <td>3</td>\n",
              "      <td>0</td>\n",
              "      <td>4449.46200</td>\n",
              "      <td>0</td>\n",
              "      <td>1</td>\n",
              "      <td>0.0</td>\n",
              "      <td>0.0</td>\n",
              "      <td>1.0</td>\n",
              "      <td>0.0</td>\n",
              "    </tr>\n",
              "    <tr>\n",
              "      <th>3</th>\n",
              "      <td>33</td>\n",
              "      <td>22.705</td>\n",
              "      <td>0</td>\n",
              "      <td>0</td>\n",
              "      <td>21984.47061</td>\n",
              "      <td>0</td>\n",
              "      <td>1</td>\n",
              "      <td>0.0</td>\n",
              "      <td>1.0</td>\n",
              "      <td>0.0</td>\n",
              "      <td>0.0</td>\n",
              "    </tr>\n",
              "    <tr>\n",
              "      <th>4</th>\n",
              "      <td>32</td>\n",
              "      <td>28.880</td>\n",
              "      <td>0</td>\n",
              "      <td>0</td>\n",
              "      <td>3866.85520</td>\n",
              "      <td>0</td>\n",
              "      <td>1</td>\n",
              "      <td>0.0</td>\n",
              "      <td>1.0</td>\n",
              "      <td>0.0</td>\n",
              "      <td>0.0</td>\n",
              "    </tr>\n",
              "  </tbody>\n",
              "</table>\n",
              "</div>\n",
              "      <button class=\"colab-df-convert\" onclick=\"convertToInteractive('df-26eb2590-54a1-491c-bb61-abcb4d1b5996')\"\n",
              "              title=\"Convert this dataframe to an interactive table.\"\n",
              "              style=\"display:none;\">\n",
              "        \n",
              "  <svg xmlns=\"http://www.w3.org/2000/svg\" height=\"24px\"viewBox=\"0 0 24 24\"\n",
              "       width=\"24px\">\n",
              "    <path d=\"M0 0h24v24H0V0z\" fill=\"none\"/>\n",
              "    <path d=\"M18.56 5.44l.94 2.06.94-2.06 2.06-.94-2.06-.94-.94-2.06-.94 2.06-2.06.94zm-11 1L8.5 8.5l.94-2.06 2.06-.94-2.06-.94L8.5 2.5l-.94 2.06-2.06.94zm10 10l.94 2.06.94-2.06 2.06-.94-2.06-.94-.94-2.06-.94 2.06-2.06.94z\"/><path d=\"M17.41 7.96l-1.37-1.37c-.4-.4-.92-.59-1.43-.59-.52 0-1.04.2-1.43.59L10.3 9.45l-7.72 7.72c-.78.78-.78 2.05 0 2.83L4 21.41c.39.39.9.59 1.41.59.51 0 1.02-.2 1.41-.59l7.78-7.78 2.81-2.81c.8-.78.8-2.07 0-2.86zM5.41 20L4 18.59l7.72-7.72 1.47 1.35L5.41 20z\"/>\n",
              "  </svg>\n",
              "      </button>\n",
              "      \n",
              "  <style>\n",
              "    .colab-df-container {\n",
              "      display:flex;\n",
              "      flex-wrap:wrap;\n",
              "      gap: 12px;\n",
              "    }\n",
              "\n",
              "    .colab-df-convert {\n",
              "      background-color: #E8F0FE;\n",
              "      border: none;\n",
              "      border-radius: 50%;\n",
              "      cursor: pointer;\n",
              "      display: none;\n",
              "      fill: #1967D2;\n",
              "      height: 32px;\n",
              "      padding: 0 0 0 0;\n",
              "      width: 32px;\n",
              "    }\n",
              "\n",
              "    .colab-df-convert:hover {\n",
              "      background-color: #E2EBFA;\n",
              "      box-shadow: 0px 1px 2px rgba(60, 64, 67, 0.3), 0px 1px 3px 1px rgba(60, 64, 67, 0.15);\n",
              "      fill: #174EA6;\n",
              "    }\n",
              "\n",
              "    [theme=dark] .colab-df-convert {\n",
              "      background-color: #3B4455;\n",
              "      fill: #D2E3FC;\n",
              "    }\n",
              "\n",
              "    [theme=dark] .colab-df-convert:hover {\n",
              "      background-color: #434B5C;\n",
              "      box-shadow: 0px 1px 3px 1px rgba(0, 0, 0, 0.15);\n",
              "      filter: drop-shadow(0px 1px 2px rgba(0, 0, 0, 0.3));\n",
              "      fill: #FFFFFF;\n",
              "    }\n",
              "  </style>\n",
              "\n",
              "      <script>\n",
              "        const buttonEl =\n",
              "          document.querySelector('#df-26eb2590-54a1-491c-bb61-abcb4d1b5996 button.colab-df-convert');\n",
              "        buttonEl.style.display =\n",
              "          google.colab.kernel.accessAllowed ? 'block' : 'none';\n",
              "\n",
              "        async function convertToInteractive(key) {\n",
              "          const element = document.querySelector('#df-26eb2590-54a1-491c-bb61-abcb4d1b5996');\n",
              "          const dataTable =\n",
              "            await google.colab.kernel.invokeFunction('convertToInteractive',\n",
              "                                                     [key], {});\n",
              "          if (!dataTable) return;\n",
              "\n",
              "          const docLinkHtml = 'Like what you see? Visit the ' +\n",
              "            '<a target=\"_blank\" href=https://colab.research.google.com/notebooks/data_table.ipynb>data table notebook</a>'\n",
              "            + ' to learn more about interactive tables.';\n",
              "          element.innerHTML = '';\n",
              "          dataTable['output_type'] = 'display_data';\n",
              "          await google.colab.output.renderOutput(dataTable, element);\n",
              "          const docLink = document.createElement('div');\n",
              "          docLink.innerHTML = docLinkHtml;\n",
              "          element.appendChild(docLink);\n",
              "        }\n",
              "      </script>\n",
              "    </div>\n",
              "  </div>\n",
              "  "
            ]
          },
          "metadata": {},
          "execution_count": 21
        }
      ],
      "source": [
        "# We will now join the dummy variable and OHE columns to original dataset\n",
        "\n",
        "data_new = pd.concat([data, dummies, features], axis=1)\n",
        "\n",
        "data_new = data_new.drop(columns='region', axis=1)\n",
        "data_new = data_new.drop(columns='sex', axis=1)\n",
        "\n",
        "data_new.head()"
      ]
    },
    {
      "cell_type": "markdown",
      "id": "3eb172c4",
      "metadata": {
        "papermill": {
          "duration": 0.016641,
          "end_time": "2022-08-29T12:07:42.848733",
          "exception": false,
          "start_time": "2022-08-29T12:07:42.832092",
          "status": "completed"
        },
        "tags": [],
        "id": "3eb172c4"
      },
      "source": [
        "<a id=\"section-four-three\"></a>\n",
        "## Splitting the Features and Targets"
      ]
    },
    {
      "cell_type": "code",
      "execution_count": 22,
      "id": "af7564ae",
      "metadata": {
        "execution": {
          "iopub.execute_input": "2022-08-29T12:07:42.885265Z",
          "iopub.status.busy": "2022-08-29T12:07:42.884135Z",
          "iopub.status.idle": "2022-08-29T12:07:42.892234Z",
          "shell.execute_reply": "2022-08-29T12:07:42.891081Z"
        },
        "papermill": {
          "duration": 0.029486,
          "end_time": "2022-08-29T12:07:42.894891",
          "exception": false,
          "start_time": "2022-08-29T12:07:42.865405",
          "status": "completed"
        },
        "tags": [],
        "id": "af7564ae"
      },
      "outputs": [],
      "source": [
        "# declare the variables\n",
        "\n",
        "y = data_new.charges\n",
        "x = data_new.drop(columns='charges', axis=1)"
      ]
    },
    {
      "cell_type": "code",
      "execution_count": 23,
      "id": "b13e1997",
      "metadata": {
        "execution": {
          "iopub.execute_input": "2022-08-29T12:07:42.931927Z",
          "iopub.status.busy": "2022-08-29T12:07:42.930959Z",
          "iopub.status.idle": "2022-08-29T12:07:42.940223Z",
          "shell.execute_reply": "2022-08-29T12:07:42.938110Z"
        },
        "papermill": {
          "duration": 0.031725,
          "end_time": "2022-08-29T12:07:42.944039",
          "exception": false,
          "start_time": "2022-08-29T12:07:42.912314",
          "status": "completed"
        },
        "tags": [],
        "colab": {
          "base_uri": "https://localhost:8080/"
        },
        "id": "b13e1997",
        "outputId": "432aa44d-eb85-4abb-a458-16b3b27c0db7"
      },
      "outputs": [
        {
          "output_type": "stream",
          "name": "stdout",
          "text": [
            "0       16884.92400\n",
            "1        1725.55230\n",
            "2        4449.46200\n",
            "3       21984.47061\n",
            "4        3866.85520\n",
            "           ...     \n",
            "1333    10600.54830\n",
            "1334     2205.98080\n",
            "1335     1629.83350\n",
            "1336     2007.94500\n",
            "1337    29141.36030\n",
            "Name: charges, Length: 1338, dtype: float64\n"
          ]
        }
      ],
      "source": [
        "# let's have a look at the target variables\n",
        "\n",
        "print(y)"
      ]
    },
    {
      "cell_type": "code",
      "execution_count": 24,
      "id": "98548c44",
      "metadata": {
        "execution": {
          "iopub.execute_input": "2022-08-29T12:07:42.980428Z",
          "iopub.status.busy": "2022-08-29T12:07:42.979346Z",
          "iopub.status.idle": "2022-08-29T12:07:42.995332Z",
          "shell.execute_reply": "2022-08-29T12:07:42.994050Z"
        },
        "papermill": {
          "duration": 0.03698,
          "end_time": "2022-08-29T12:07:42.998106",
          "exception": false,
          "start_time": "2022-08-29T12:07:42.961126",
          "status": "completed"
        },
        "tags": [],
        "colab": {
          "base_uri": "https://localhost:8080/"
        },
        "id": "98548c44",
        "outputId": "bdf1c9f3-0b84-4315-eee6-f1e9abbd8544"
      },
      "outputs": [
        {
          "output_type": "stream",
          "name": "stdout",
          "text": [
            "      age     bmi  children  smoker  female  male  northeast  northwest  \\\n",
            "0      19  27.900         0       1       1     0        0.0        0.0   \n",
            "1      18  33.770         1       0       0     1        0.0        0.0   \n",
            "2      28  33.000         3       0       0     1        0.0        0.0   \n",
            "3      33  22.705         0       0       0     1        0.0        1.0   \n",
            "4      32  28.880         0       0       0     1        0.0        1.0   \n",
            "...   ...     ...       ...     ...     ...   ...        ...        ...   \n",
            "1333   50  30.970         3       0       0     1        0.0        1.0   \n",
            "1334   18  31.920         0       0       1     0        1.0        0.0   \n",
            "1335   18  36.850         0       0       1     0        0.0        0.0   \n",
            "1336   21  25.800         0       0       1     0        0.0        0.0   \n",
            "1337   61  29.070         0       1       1     0        0.0        1.0   \n",
            "\n",
            "      southeast  southwest  \n",
            "0           0.0        1.0  \n",
            "1           1.0        0.0  \n",
            "2           1.0        0.0  \n",
            "3           0.0        0.0  \n",
            "4           0.0        0.0  \n",
            "...         ...        ...  \n",
            "1333        0.0        0.0  \n",
            "1334        0.0        0.0  \n",
            "1335        1.0        0.0  \n",
            "1336        0.0        1.0  \n",
            "1337        0.0        0.0  \n",
            "\n",
            "[1338 rows x 10 columns]\n"
          ]
        }
      ],
      "source": [
        "# let's have a look at the features\n",
        "\n",
        "print(x)"
      ]
    },
    {
      "cell_type": "markdown",
      "id": "51742d77",
      "metadata": {
        "papermill": {
          "duration": 0.01762,
          "end_time": "2022-08-29T12:07:43.033070",
          "exception": false,
          "start_time": "2022-08-29T12:07:43.015450",
          "status": "completed"
        },
        "tags": [],
        "id": "51742d77"
      },
      "source": [
        "<a id=\"section-four-four\"></a>\n",
        "## Splitting the data into training data & testing data"
      ]
    },
    {
      "cell_type": "code",
      "execution_count": 25,
      "id": "01fb24b9",
      "metadata": {
        "execution": {
          "iopub.execute_input": "2022-08-29T12:07:43.069470Z",
          "iopub.status.busy": "2022-08-29T12:07:43.069006Z",
          "iopub.status.idle": "2022-08-29T12:07:43.077880Z",
          "shell.execute_reply": "2022-08-29T12:07:43.076601Z"
        },
        "papermill": {
          "duration": 0.030336,
          "end_time": "2022-08-29T12:07:43.080400",
          "exception": false,
          "start_time": "2022-08-29T12:07:43.050064",
          "status": "completed"
        },
        "tags": [],
        "id": "01fb24b9"
      },
      "outputs": [],
      "source": [
        "from sklearn.model_selection import train_test_split\n",
        "\n",
        "x_train, x_test, y_train, y_test = train_test_split(x, y, test_size = 0.2, random_state = 2)"
      ]
    },
    {
      "cell_type": "code",
      "execution_count": 26,
      "id": "00870abb",
      "metadata": {
        "execution": {
          "iopub.execute_input": "2022-08-29T12:07:43.116848Z",
          "iopub.status.busy": "2022-08-29T12:07:43.116336Z",
          "iopub.status.idle": "2022-08-29T12:07:43.122619Z",
          "shell.execute_reply": "2022-08-29T12:07:43.121360Z"
        },
        "papermill": {
          "duration": 0.028438,
          "end_time": "2022-08-29T12:07:43.125968",
          "exception": false,
          "start_time": "2022-08-29T12:07:43.097530",
          "status": "completed"
        },
        "tags": [],
        "colab": {
          "base_uri": "https://localhost:8080/"
        },
        "id": "00870abb",
        "outputId": "d82a9d33-80d0-4b81-bf35-4531d170c0a9"
      },
      "outputs": [
        {
          "output_type": "stream",
          "name": "stdout",
          "text": [
            "(1338, 10) (1070, 10) (268, 10)\n"
          ]
        }
      ],
      "source": [
        "# By looking at the shape, we could see the number of observations which are training and testing\n",
        "\n",
        "print(x.shape, x_train.shape, x_test.shape)"
      ]
    },
    {
      "cell_type": "markdown",
      "id": "bb4c145c",
      "metadata": {
        "papermill": {
          "duration": 0.017093,
          "end_time": "2022-08-29T12:07:43.161428",
          "exception": false,
          "start_time": "2022-08-29T12:07:43.144335",
          "status": "completed"
        },
        "tags": [],
        "id": "bb4c145c"
      },
      "source": [
        "<a id=\"section-five\"></a>\n",
        "# 5. Model Training"
      ]
    },
    {
      "cell_type": "markdown",
      "id": "fd186a23",
      "metadata": {
        "papermill": {
          "duration": 0.017581,
          "end_time": "2022-08-29T12:07:43.196457",
          "exception": false,
          "start_time": "2022-08-29T12:07:43.178876",
          "status": "completed"
        },
        "tags": [],
        "id": "fd186a23"
      },
      "source": [
        "<a id=\"section-five-one\"></a>\n",
        "## Linear Regression"
      ]
    },
    {
      "cell_type": "code",
      "execution_count": 27,
      "id": "3dbd8730",
      "metadata": {
        "execution": {
          "iopub.execute_input": "2022-08-29T12:07:43.232943Z",
          "iopub.status.busy": "2022-08-29T12:07:43.232432Z",
          "iopub.status.idle": "2022-08-29T12:07:43.268885Z",
          "shell.execute_reply": "2022-08-29T12:07:43.266778Z"
        },
        "papermill": {
          "duration": 0.060167,
          "end_time": "2022-08-29T12:07:43.273863",
          "exception": false,
          "start_time": "2022-08-29T12:07:43.213696",
          "status": "completed"
        },
        "tags": [],
        "colab": {
          "base_uri": "https://localhost:8080/"
        },
        "id": "3dbd8730",
        "outputId": "17b5c02a-e8f8-46b5-a3c9-d181ce544ade"
      },
      "outputs": [
        {
          "output_type": "execute_result",
          "data": {
            "text/plain": [
              "LinearRegression()"
            ]
          },
          "metadata": {},
          "execution_count": 27
        }
      ],
      "source": [
        "# Check the regression\n",
        "\n",
        "reg = LinearRegression()\n",
        "reg.fit(x_train.values, y_train.values)"
      ]
    },
    {
      "cell_type": "markdown",
      "id": "e5417e0a",
      "metadata": {
        "papermill": {
          "duration": 0.044589,
          "end_time": "2022-08-29T12:07:43.362937",
          "exception": false,
          "start_time": "2022-08-29T12:07:43.318348",
          "status": "completed"
        },
        "tags": [],
        "id": "e5417e0a"
      },
      "source": [
        "<a id=\"section-five-two\"></a>\n",
        "## Model Evaluation"
      ]
    },
    {
      "cell_type": "code",
      "execution_count": 28,
      "id": "d6ae12ab",
      "metadata": {
        "execution": {
          "iopub.execute_input": "2022-08-29T12:07:43.406447Z",
          "iopub.status.busy": "2022-08-29T12:07:43.405190Z",
          "iopub.status.idle": "2022-08-29T12:07:43.414564Z",
          "shell.execute_reply": "2022-08-29T12:07:43.413500Z"
        },
        "papermill": {
          "duration": 0.031135,
          "end_time": "2022-08-29T12:07:43.417453",
          "exception": false,
          "start_time": "2022-08-29T12:07:43.386318",
          "status": "completed"
        },
        "tags": [],
        "id": "d6ae12ab"
      },
      "outputs": [],
      "source": [
        "# prediction on training data\n",
        "\n",
        "train_data_pred = reg.predict(x_train.values)"
      ]
    },
    {
      "cell_type": "code",
      "execution_count": 29,
      "id": "a60baf49",
      "metadata": {
        "execution": {
          "iopub.execute_input": "2022-08-29T12:07:43.500417Z",
          "iopub.status.busy": "2022-08-29T12:07:43.499367Z",
          "iopub.status.idle": "2022-08-29T12:07:43.510706Z",
          "shell.execute_reply": "2022-08-29T12:07:43.509226Z"
        },
        "papermill": {
          "duration": 0.063524,
          "end_time": "2022-08-29T12:07:43.515445",
          "exception": false,
          "start_time": "2022-08-29T12:07:43.451921",
          "status": "completed"
        },
        "tags": [],
        "colab": {
          "base_uri": "https://localhost:8080/"
        },
        "id": "a60baf49",
        "outputId": "1cf521ac-2b26-4123-f40a-69825274c997"
      },
      "outputs": [
        {
          "output_type": "stream",
          "name": "stdout",
          "text": [
            "R squared value:  0.7520187377309014\n"
          ]
        }
      ],
      "source": [
        "# R squared value\n",
        "\n",
        "from sklearn import metrics\n",
        "\n",
        "r2_train = metrics.r2_score(y_train, train_data_pred)\n",
        "\n",
        "print('R squared value: ',r2_train)"
      ]
    },
    {
      "cell_type": "code",
      "execution_count": 30,
      "id": "08953ca9",
      "metadata": {
        "execution": {
          "iopub.execute_input": "2022-08-29T12:07:43.564774Z",
          "iopub.status.busy": "2022-08-29T12:07:43.564281Z",
          "iopub.status.idle": "2022-08-29T12:07:43.570740Z",
          "shell.execute_reply": "2022-08-29T12:07:43.569398Z"
        },
        "papermill": {
          "duration": 0.028093,
          "end_time": "2022-08-29T12:07:43.573272",
          "exception": false,
          "start_time": "2022-08-29T12:07:43.545179",
          "status": "completed"
        },
        "tags": [],
        "id": "08953ca9"
      },
      "outputs": [],
      "source": [
        "# prediction on testing data\n",
        "\n",
        "test_data_pred = reg.predict(x_test.values)"
      ]
    },
    {
      "cell_type": "code",
      "execution_count": 31,
      "id": "024e612c",
      "metadata": {
        "execution": {
          "iopub.execute_input": "2022-08-29T12:07:43.610586Z",
          "iopub.status.busy": "2022-08-29T12:07:43.609212Z",
          "iopub.status.idle": "2022-08-29T12:07:43.616589Z",
          "shell.execute_reply": "2022-08-29T12:07:43.615352Z"
        },
        "papermill": {
          "duration": 0.028637,
          "end_time": "2022-08-29T12:07:43.619023",
          "exception": false,
          "start_time": "2022-08-29T12:07:43.590386",
          "status": "completed"
        },
        "tags": [],
        "colab": {
          "base_uri": "https://localhost:8080/"
        },
        "id": "024e612c",
        "outputId": "bf47982b-c7d0-4e32-f4cb-eb642d90112b"
      },
      "outputs": [
        {
          "output_type": "stream",
          "name": "stdout",
          "text": [
            "R squared value:  0.7449415564623687\n"
          ]
        }
      ],
      "source": [
        "# R squared value\n",
        "\n",
        "r2_test = metrics.r2_score(y_test, test_data_pred)\n",
        "\n",
        "print('R squared value: ',r2_test)"
      ]
    },
    {
      "cell_type": "code",
      "execution_count": 32,
      "id": "2a31e401",
      "metadata": {
        "execution": {
          "iopub.execute_input": "2022-08-29T12:07:43.656624Z",
          "iopub.status.busy": "2022-08-29T12:07:43.655846Z",
          "iopub.status.idle": "2022-08-29T12:07:44.201107Z",
          "shell.execute_reply": "2022-08-29T12:07:44.199580Z"
        },
        "papermill": {
          "duration": 0.56746,
          "end_time": "2022-08-29T12:07:44.204061",
          "exception": false,
          "start_time": "2022-08-29T12:07:43.636601",
          "status": "completed"
        },
        "tags": [],
        "colab": {
          "base_uri": "https://localhost:8080/",
          "height": 0
        },
        "id": "2a31e401",
        "outputId": "ece4a3cd-03da-498f-fd6d-478331e9d861"
      },
      "outputs": [
        {
          "output_type": "execute_result",
          "data": {
            "text/plain": [
              "Text(0.5, 1.0, 'Residuals PDF')"
            ]
          },
          "metadata": {},
          "execution_count": 32
        },
        {
          "output_type": "display_data",
          "data": {
            "text/plain": [
              "<Figure size 360x360 with 1 Axes>"
            ],
            "image/png": "[encoded data removed]"
          },
          "metadata": {}
        }
      ],
      "source": [
        "# Residual = Differences between the targets and the predictions\n",
        "# The residuals are the estimate of errors\n",
        "\n",
        "sns.displot(y_train - train_data_pred)\n",
        "plt.title('Residuals PDF', size = 18)"
      ]
    },
    {
      "cell_type": "markdown",
      "id": "5594988f",
      "metadata": {
        "papermill": {
          "duration": 0.017832,
          "end_time": "2022-08-29T12:07:44.239864",
          "exception": false,
          "start_time": "2022-08-29T12:07:44.222032",
          "status": "completed"
        },
        "tags": [],
        "id": "5594988f"
      },
      "source": [
        "<a id=\"section-six\"></a>\n",
        "# 6. Building a Predictive System"
      ]
    },
    {
      "cell_type": "code",
      "execution_count": 33,
      "id": "e45f1877",
      "metadata": {
        "execution": {
          "iopub.execute_input": "2022-08-29T12:07:44.278467Z",
          "iopub.status.busy": "2022-08-29T12:07:44.277869Z",
          "iopub.status.idle": "2022-08-29T12:07:44.284492Z",
          "shell.execute_reply": "2022-08-29T12:07:44.283064Z"
        },
        "papermill": {
          "duration": 0.028796,
          "end_time": "2022-08-29T12:07:44.286667",
          "exception": false,
          "start_time": "2022-08-29T12:07:44.257871",
          "status": "completed"
        },
        "tags": [],
        "id": "e45f1877"
      },
      "outputs": [],
      "source": [
        "# we select the random features in order to machine to predict respective charges \n",
        "# we will also put the values assigned to categorical varibales\n",
        "\n",
        "# features used: age:31, sex:female, bmi:25.74, children:0, smoker:no, region:southeast\n",
        "\n",
        "input_data = (31, 25.74, 0, 0, 1, 0, 0, 0, 1, 0)"
      ]
    },
    {
      "cell_type": "code",
      "execution_count": 34,
      "id": "6d2b1bf6",
      "metadata": {
        "execution": {
          "iopub.execute_input": "2022-08-29T12:07:44.325345Z",
          "iopub.status.busy": "2022-08-29T12:07:44.324441Z",
          "iopub.status.idle": "2022-08-29T12:07:44.329165Z",
          "shell.execute_reply": "2022-08-29T12:07:44.328257Z"
        },
        "papermill": {
          "duration": 0.026648,
          "end_time": "2022-08-29T12:07:44.331438",
          "exception": false,
          "start_time": "2022-08-29T12:07:44.304790",
          "status": "completed"
        },
        "tags": [],
        "id": "6d2b1bf6"
      },
      "outputs": [],
      "source": [
        "# changing inupt_data into numpy array\n",
        "\n",
        "array_data = np.asarray(input_data)"
      ]
    },
    {
      "cell_type": "code",
      "execution_count": 35,
      "id": "4b9344bc",
      "metadata": {
        "execution": {
          "iopub.execute_input": "2022-08-29T12:07:44.370214Z",
          "iopub.status.busy": "2022-08-29T12:07:44.369290Z",
          "iopub.status.idle": "2022-08-29T12:07:44.374210Z",
          "shell.execute_reply": "2022-08-29T12:07:44.373316Z"
        },
        "papermill": {
          "duration": 0.026995,
          "end_time": "2022-08-29T12:07:44.376517",
          "exception": false,
          "start_time": "2022-08-29T12:07:44.349522",
          "status": "completed"
        },
        "tags": [],
        "id": "4b9344bc"
      },
      "outputs": [],
      "source": [
        "# reshape the array\n",
        "\n",
        "array_data_reshaped = array_data.reshape(1,-1)"
      ]
    },
    {
      "cell_type": "code",
      "execution_count": 36,
      "id": "2479b050",
      "metadata": {
        "execution": {
          "iopub.execute_input": "2022-08-29T12:07:44.414585Z",
          "iopub.status.busy": "2022-08-29T12:07:44.413779Z",
          "iopub.status.idle": "2022-08-29T12:07:44.420766Z",
          "shell.execute_reply": "2022-08-29T12:07:44.419605Z"
        },
        "papermill": {
          "duration": 0.029094,
          "end_time": "2022-08-29T12:07:44.423473",
          "exception": false,
          "start_time": "2022-08-29T12:07:44.394379",
          "status": "completed"
        },
        "tags": [],
        "colab": {
          "base_uri": "https://localhost:8080/"
        },
        "id": "2479b050",
        "outputId": "1c37f609-6ff9-4d26-d4a4-9bd174a97fb4"
      },
      "outputs": [
        {
          "output_type": "stream",
          "name": "stdout",
          "text": [
            "The insurance charge is $ [3811.11420936]\n"
          ]
        }
      ],
      "source": [
        "prediction = reg.predict(array_data_reshaped)\n",
        "\n",
        "print('The insurance charge is $',prediction)"
      ]
    },
    {
      "cell_type": "markdown",
      "id": "367acc2d",
      "metadata": {
        "papermill": {
          "duration": 0.017699,
          "end_time": "2022-08-29T12:07:44.459314",
          "exception": false,
          "start_time": "2022-08-29T12:07:44.441615",
          "status": "completed"
        },
        "tags": [],
        "id": "367acc2d"
      },
      "source": [
        "The original price is 3756.8552. Our model's predictions are close to the original price, therefore the model is complete. "
      ]
    },
    {
      "cell_type": "markdown",
      "id": "270fe71f",
      "metadata": {
        "papermill": {
          "duration": 0.017425,
          "end_time": "2022-08-29T12:07:44.496449",
          "exception": false,
          "start_time": "2022-08-29T12:07:44.479024",
          "status": "completed"
        },
        "tags": [],
        "id": "270fe71f"
      },
      "source": [
        "That's all and thank you! I hope you liked my linear regression model and prediction with ML project. Please do let me know your reviews and advices in the comments :))"
      ]
    }
  ],
  "metadata": {
    "kernelspec": {
      "display_name": "Python 3",
      "language": "python",
      "name": "python3"
    },
    "language_info": {
      "codemirror_mode": {
        "name": "ipython",
        "version": 3
      },
      "file_extension": ".py",
      "mimetype": "text/x-python",
      "name": "python",
      "nbconvert_exporter": "python",
      "pygments_lexer": "ipython3",
      "version": "3.7.12"
    },
    "papermill": {
      "default_parameters": {},
      "duration": 19.133521,
      "end_time": "2022-08-29T12:07:45.641578",
      "environment_variables": {},
      "exception": null,
      "input_path": "__notebook__.ipynb",
      "output_path": "__notebook__.ipynb",
      "parameters": {},
      "start_time": "2022-08-29T12:07:26.508057",
      "version": "2.3.4"
    },
    "colab": {
      "provenance": []
    },
    "accelerator": "GPU",
    "gpuClass": "standard"
  },
  "nbformat": 4,
  "nbformat_minor": 5
}